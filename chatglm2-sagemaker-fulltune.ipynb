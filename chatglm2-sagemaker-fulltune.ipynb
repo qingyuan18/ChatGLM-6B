{
 "cells": [
  {
   "cell_type": "markdown",
   "id": "f25d98fb-9a1e-4f98-b3fd-10b8ae565583",
   "metadata": {
    "tags": []
   },
   "source": [
    "# 1. 准备环境(仅新建笔记本实例时初始化使用)"
   ]
  },
  {
   "cell_type": "markdown",
   "id": "751bc8af-7e6d-443c-9ee3-b4fd42575282",
   "metadata": {},
   "source": [
    "## 1.1 准备Python SDK"
   ]
  },
  {
   "cell_type": "code",
   "execution_count": null,
   "id": "c7794a87-f631-4925-bb2d-a8355225a097",
   "metadata": {
    "tags": []
   },
   "outputs": [],
   "source": [
    "!pip install --upgrade boto3\n",
    "!pip install --upgrade sagemaker"
   ]
  },
  {
   "cell_type": "code",
   "execution_count": null,
   "id": "ee05fcfc-89a1-45fb-85ea-1681a1316a77",
   "metadata": {
    "tags": []
   },
   "outputs": [],
   "source": [
    "!pip install huggingface_hub"
   ]
  },
  {
   "cell_type": "markdown",
   "id": "0ff91a8e-44e6-47e3-8eb5-1a458476d28f",
   "metadata": {},
   "source": [
    "## 1.2 克隆ChatGLM2代码"
   ]
  },
  {
   "cell_type": "code",
   "execution_count": 1,
   "id": "44baf3b5-8eed-4388-8ffe-005d53a3fa92",
   "metadata": {
    "tags": []
   },
   "outputs": [
    {
     "name": "stderr",
     "output_type": "stream",
     "text": [
      "Cloning into 'ChatGLM2-6B'...\n"
     ]
    }
   ],
   "source": [
    "%%script bash\n",
    "rm -rf ChatGLM2-6B\n",
    "git clone https://github.com/THUDM/ChatGLM2-6B.git"
   ]
  },
  {
   "cell_type": "markdown",
   "id": "924a0559-b1fe-4c90-9d6c-722ea2ffe839",
   "metadata": {},
   "source": [
    "## 1.3 准备s5cmd\n",
    "除了给笔记本实例使用外，还要提供给训练实例使用"
   ]
  },
  {
   "cell_type": "code",
   "execution_count": 2,
   "id": "41aedda3-1e27-4091-bf34-9310c1fccbbe",
   "metadata": {
    "tags": []
   },
   "outputs": [
    {
     "name": "stderr",
     "output_type": "stream",
     "text": [
      "rm: cannot remove ‘/usr/local/bin/s5cmd’: No such file or directory\n",
      "  % Total    % Received % Xferd  Average Speed   Time    Time     Time  Current\n",
      "                                 Dload  Upload   Total   Spent    Left  Speed\n",
      "  0     0    0     0    0     0      0      0 --:--:-- --:--:-- --:--:--     0\n",
      "100 4425k  100 4425k    0     0  6386k      0 --:--:-- --:--:-- --:--:-- 39.2M\n"
     ]
    }
   ],
   "source": [
    "%%script bash\n",
    "sudo rm /usr/local/bin/s5cmd\n",
    "mkdir s5cmd_download\n",
    "cd s5cmd_download\n",
    "curl -L https://github.com/peak/s5cmd/releases/download/v2.1.0/s5cmd_2.1.0_Linux-64bit.tar.gz | tar -xz\n",
    "chmod 777 ./s5cmd\n",
    "cp ./s5cmd ../ChatGLM2-6B/ptuning/\n",
    "chmod 777 ./s5cmd\n",
    "cp ./s5cmd ../code\n",
    "sudo mv s5cmd /usr/local/bin/\n",
    "cd ..\n",
    "rm -rf s5cmd_download"
   ]
  },
  {
   "cell_type": "markdown",
   "id": "e3fde6af-3414-478f-be27-6e28203c36c9",
   "metadata": {
    "tags": []
   },
   "source": [
    "## 1.4 获取Runtime资源配置"
   ]
  },
  {
   "cell_type": "code",
   "execution_count": 2,
   "id": "9dfe8c4c-cb83-4306-a823-3b0eb119b47e",
   "metadata": {
    "tags": []
   },
   "outputs": [
    {
     "name": "stdout",
     "output_type": "stream",
     "text": [
      "Sagemaker Execution Role:\n",
      "arn:aws:iam::687912291502:role/service-role/AmazonSageMaker-ExecutionRole-20211013T113123\n",
      "Sagemaker Default Bucket:\n",
      "sagemaker-us-west-2-687912291502\n",
      "Sagemaker Boto Account:\n",
      "687912291502\n",
      "Sagemaker Boto Region:\n",
      "us-west-2\n"
     ]
    }
   ],
   "source": [
    "import boto3\n",
    "import sagemaker\n",
    "from sagemaker import get_execution_role\n",
    "\n",
    "sess = sagemaker.Session()\n",
    "role = get_execution_role()\n",
    "sagemaker_default_bucket = sess.default_bucket()\n",
    "\n",
    "account = sess.boto_session.client(\"sts\").get_caller_identity()[\"Account\"]\n",
    "region = sess.boto_session.region_name\n",
    "\n",
    "print(\"Sagemaker Execution Role:\")\n",
    "print(role)\n",
    "print(\"Sagemaker Default Bucket:\")\n",
    "print(sagemaker_default_bucket)\n",
    "print(\"Sagemaker Boto Account:\")\n",
    "print(account)\n",
    "print(\"Sagemaker Boto Region:\")\n",
    "print(region)"
   ]
  },
  {
   "cell_type": "markdown",
   "id": "8d1790e2-5800-411d-8c6c-af26618670a7",
   "metadata": {},
   "source": [
    "## 1.5 下载ChatGLM2原始模型"
   ]
  },
  {
   "cell_type": "code",
   "execution_count": 4,
   "id": "3acd1f6f-6172-4326-8390-3f3a75361898",
   "metadata": {
    "tags": []
   },
   "outputs": [
    {
     "data": {
      "application/json": {
       "ascii": false,
       "bar_format": null,
       "colour": null,
       "elapsed": 0.013374090194702148,
       "initial": 0,
       "n": 0,
       "ncols": null,
       "nrows": null,
       "postfix": null,
       "prefix": "Fetching 15 files",
       "rate": null,
       "total": 15,
       "unit": "it",
       "unit_divisor": 1000,
       "unit_scale": false
      },
      "application/vnd.jupyter.widget-view+json": {
       "model_id": "058d7d43ba604f1d85c9db429ef32f0f",
       "version_major": 2,
       "version_minor": 0
      },
      "text/plain": [
       "Fetching 15 files:   0%|          | 0/15 [00:00<?, ?it/s]"
      ]
     },
     "metadata": {},
     "output_type": "display_data"
    },
    {
     "data": {
      "application/json": {
       "ascii": false,
       "bar_format": null,
       "colour": null,
       "elapsed": 0.012126684188842773,
       "initial": 0,
       "n": 0,
       "ncols": null,
       "nrows": null,
       "postfix": null,
       "prefix": "Downloading (…)l-00002-of-00007.bin",
       "rate": null,
       "total": 1968299005,
       "unit": "B",
       "unit_divisor": 1000,
       "unit_scale": true
      },
      "application/vnd.jupyter.widget-view+json": {
       "model_id": "4a8d02b45ecb46d9a7f7e01fc00817b6",
       "version_major": 2,
       "version_minor": 0
      },
      "text/plain": [
       "Downloading (…)l-00002-of-00007.bin:   0%|          | 0.00/1.97G [00:00<?, ?B/s]"
      ]
     },
     "metadata": {},
     "output_type": "display_data"
    },
    {
     "data": {
      "application/json": {
       "ascii": false,
       "bar_format": null,
       "colour": null,
       "elapsed": 0.020511627197265625,
       "initial": 0,
       "n": 0,
       "ncols": null,
       "nrows": null,
       "postfix": null,
       "prefix": "Downloading (…)l-00001-of-00007.bin",
       "rate": null,
       "total": 1827780615,
       "unit": "B",
       "unit_divisor": 1000,
       "unit_scale": true
      },
      "application/vnd.jupyter.widget-view+json": {
       "model_id": "6bd8317130ea4d2a925982260b150aa8",
       "version_major": 2,
       "version_minor": 0
      },
      "text/plain": [
       "Downloading (…)l-00001-of-00007.bin:   0%|          | 0.00/1.83G [00:00<?, ?B/s]"
      ]
     },
     "metadata": {},
     "output_type": "display_data"
    },
    {
     "data": {
      "application/json": {
       "ascii": false,
       "bar_format": null,
       "colour": null,
       "elapsed": 0.0076563358306884766,
       "initial": 0,
       "n": 0,
       "ncols": null,
       "nrows": null,
       "postfix": null,
       "prefix": "Downloading (…)l-00005-of-00007.bin",
       "rate": null,
       "total": 1968299069,
       "unit": "B",
       "unit_divisor": 1000,
       "unit_scale": true
      },
      "application/vnd.jupyter.widget-view+json": {
       "model_id": "13d603ecdc674a179100426d03af4366",
       "version_major": 2,
       "version_minor": 0
      },
      "text/plain": [
       "Downloading (…)l-00005-of-00007.bin:   0%|          | 0.00/1.97G [00:00<?, ?B/s]"
      ]
     },
     "metadata": {},
     "output_type": "display_data"
    },
    {
     "data": {
      "application/json": {
       "ascii": false,
       "bar_format": null,
       "colour": null,
       "elapsed": 0.011175155639648438,
       "initial": 0,
       "n": 0,
       "ncols": null,
       "nrows": null,
       "postfix": null,
       "prefix": "Downloading (…)l-00003-of-00007.bin",
       "rate": null,
       "total": 1927414561,
       "unit": "B",
       "unit_divisor": 1000,
       "unit_scale": true
      },
      "application/vnd.jupyter.widget-view+json": {
       "model_id": "f3f84b1d032e44f9a1d00ac12e77b972",
       "version_major": 2,
       "version_minor": 0
      },
      "text/plain": [
       "Downloading (…)l-00003-of-00007.bin:   0%|          | 0.00/1.93G [00:00<?, ?B/s]"
      ]
     },
     "metadata": {},
     "output_type": "display_data"
    },
    {
     "data": {
      "application/json": {
       "ascii": false,
       "bar_format": null,
       "colour": null,
       "elapsed": 0.010100841522216797,
       "initial": 0,
       "n": 0,
       "ncols": null,
       "nrows": null,
       "postfix": null,
       "prefix": "Downloading (…)l-00004-of-00007.bin",
       "rate": null,
       "total": 1815225523,
       "unit": "B",
       "unit_divisor": 1000,
       "unit_scale": true
      },
      "application/vnd.jupyter.widget-view+json": {
       "model_id": "d90acd8a62ca4708a0cdcb9039233be7",
       "version_major": 2,
       "version_minor": 0
      },
      "text/plain": [
       "Downloading (…)l-00004-of-00007.bin:   0%|          | 0.00/1.82G [00:00<?, ?B/s]"
      ]
     },
     "metadata": {},
     "output_type": "display_data"
    },
    {
     "data": {
      "application/json": {
       "ascii": false,
       "bar_format": null,
       "colour": null,
       "elapsed": 0.02055048942565918,
       "initial": 0,
       "n": 0,
       "ncols": null,
       "nrows": null,
       "postfix": null,
       "prefix": "Downloading (…)/modeling_chatglm.py",
       "rate": null,
       "total": 50717,
       "unit": "B",
       "unit_divisor": 1000,
       "unit_scale": true
      },
      "application/vnd.jupyter.widget-view+json": {
       "model_id": "d6271b4fd1ca41f6b73d4d2198f42d8e",
       "version_major": 2,
       "version_minor": 0
      },
      "text/plain": [
       "Downloading (…)/modeling_chatglm.py:   0%|          | 0.00/50.7k [00:00<?, ?B/s]"
      ]
     },
     "metadata": {},
     "output_type": "display_data"
    },
    {
     "data": {
      "application/json": {
       "ascii": false,
       "bar_format": null,
       "colour": null,
       "elapsed": 0.01530146598815918,
       "initial": 0,
       "n": 0,
       "ncols": null,
       "nrows": null,
       "postfix": null,
       "prefix": "Downloading (…)2620ce9f/config.json",
       "rate": null,
       "total": 1223,
       "unit": "B",
       "unit_divisor": 1000,
       "unit_scale": true
      },
      "application/vnd.jupyter.widget-view+json": {
       "model_id": "91054aa58ec34d389518a7d1763e3b7f",
       "version_major": 2,
       "version_minor": 0
      },
      "text/plain": [
       "Downloading (…)2620ce9f/config.json:   0%|          | 0.00/1.22k [00:00<?, ?B/s]"
      ]
     },
     "metadata": {},
     "output_type": "display_data"
    },
    {
     "data": {
      "application/json": {
       "ascii": false,
       "bar_format": null,
       "colour": null,
       "elapsed": 0.012979745864868164,
       "initial": 0,
       "n": 0,
       "ncols": null,
       "nrows": null,
       "postfix": null,
       "prefix": "Downloading (…)iguration_chatglm.py",
       "rate": null,
       "total": 2246,
       "unit": "B",
       "unit_divisor": 1000,
       "unit_scale": true
      },
      "application/vnd.jupyter.widget-view+json": {
       "model_id": "a66826e24d1b4fd38c166f53373b4155",
       "version_major": 2,
       "version_minor": 0
      },
      "text/plain": [
       "Downloading (…)iguration_chatglm.py:   0%|          | 0.00/2.25k [00:00<?, ?B/s]"
      ]
     },
     "metadata": {},
     "output_type": "display_data"
    },
    {
     "data": {
      "application/json": {
       "ascii": false,
       "bar_format": null,
       "colour": null,
       "elapsed": 0.0077168941497802734,
       "initial": 0,
       "n": 0,
       "ncols": null,
       "nrows": null,
       "postfix": null,
       "prefix": "Downloading (…)l-00006-of-00007.bin",
       "rate": null,
       "total": 1927414561,
       "unit": "B",
       "unit_divisor": 1000,
       "unit_scale": true
      },
      "application/vnd.jupyter.widget-view+json": {
       "model_id": "20acd7bca77f4f128331cc9a3a7ac5a5",
       "version_major": 2,
       "version_minor": 0
      },
      "text/plain": [
       "Downloading (…)l-00006-of-00007.bin:   0%|          | 0.00/1.93G [00:00<?, ?B/s]"
      ]
     },
     "metadata": {},
     "output_type": "display_data"
    },
    {
     "data": {
      "application/json": {
       "ascii": false,
       "bar_format": null,
       "colour": null,
       "elapsed": 0.00623631477355957,
       "initial": 0,
       "n": 0,
       "ncols": null,
       "nrows": null,
       "postfix": null,
       "prefix": "Downloading (…)l-00007-of-00007.bin",
       "rate": null,
       "total": 1052808067,
       "unit": "B",
       "unit_divisor": 1000,
       "unit_scale": true
      },
      "application/vnd.jupyter.widget-view+json": {
       "model_id": "a612629fa14b4fd792d681bd9ab9b443",
       "version_major": 2,
       "version_minor": 0
      },
      "text/plain": [
       "Downloading (…)l-00007-of-00007.bin:   0%|          | 0.00/1.05G [00:00<?, ?B/s]"
      ]
     },
     "metadata": {},
     "output_type": "display_data"
    },
    {
     "data": {
      "application/json": {
       "ascii": false,
       "bar_format": null,
       "colour": null,
       "elapsed": 0.009282827377319336,
       "initial": 0,
       "n": 0,
       "ncols": null,
       "nrows": null,
       "postfix": null,
       "prefix": "Downloading (…)model.bin.index.json",
       "rate": null,
       "total": 20438,
       "unit": "B",
       "unit_divisor": 1000,
       "unit_scale": true
      },
      "application/vnd.jupyter.widget-view+json": {
       "model_id": "bdcabf2dfdbf4690a3ff16d81c81550f",
       "version_major": 2,
       "version_minor": 0
      },
      "text/plain": [
       "Downloading (…)model.bin.index.json:   0%|          | 0.00/20.4k [00:00<?, ?B/s]"
      ]
     },
     "metadata": {},
     "output_type": "display_data"
    },
    {
     "data": {
      "application/json": {
       "ascii": false,
       "bar_format": null,
       "colour": null,
       "elapsed": 0.00754547119140625,
       "initial": 0,
       "n": 0,
       "ncols": null,
       "nrows": null,
       "postfix": null,
       "prefix": "Downloading (…)ce9f/quantization.py",
       "rate": null,
       "total": 14692,
       "unit": "B",
       "unit_divisor": 1000,
       "unit_scale": true
      },
      "application/vnd.jupyter.widget-view+json": {
       "model_id": "c3e06f7355924b67a40ffc6d9118f265",
       "version_major": 2,
       "version_minor": 0
      },
      "text/plain": [
       "Downloading (…)ce9f/quantization.py:   0%|          | 0.00/14.7k [00:00<?, ?B/s]"
      ]
     },
     "metadata": {},
     "output_type": "display_data"
    },
    {
     "data": {
      "application/json": {
       "ascii": false,
       "bar_format": null,
       "colour": null,
       "elapsed": 0.006563663482666016,
       "initial": 0,
       "n": 0,
       "ncols": null,
       "nrows": null,
       "postfix": null,
       "prefix": "Downloading (…)enization_chatglm.py",
       "rate": null,
       "total": 10061,
       "unit": "B",
       "unit_divisor": 1000,
       "unit_scale": true
      },
      "application/vnd.jupyter.widget-view+json": {
       "model_id": "ef7d90671eb44b6f95efb8807cf3c2e5",
       "version_major": 2,
       "version_minor": 0
      },
      "text/plain": [
       "Downloading (…)enization_chatglm.py:   0%|          | 0.00/10.1k [00:00<?, ?B/s]"
      ]
     },
     "metadata": {},
     "output_type": "display_data"
    },
    {
     "data": {
      "application/json": {
       "ascii": false,
       "bar_format": null,
       "colour": null,
       "elapsed": 0.007886648178100586,
       "initial": 0,
       "n": 0,
       "ncols": null,
       "nrows": null,
       "postfix": null,
       "prefix": "Downloading tokenizer.model",
       "rate": null,
       "total": 1018370,
       "unit": "B",
       "unit_divisor": 1000,
       "unit_scale": true
      },
      "application/vnd.jupyter.widget-view+json": {
       "model_id": "79700ee796114761a3766750d8ce3428",
       "version_major": 2,
       "version_minor": 0
      },
      "text/plain": [
       "Downloading tokenizer.model:   0%|          | 0.00/1.02M [00:00<?, ?B/s]"
      ]
     },
     "metadata": {},
     "output_type": "display_data"
    },
    {
     "data": {
      "application/json": {
       "ascii": false,
       "bar_format": null,
       "colour": null,
       "elapsed": 0.009075164794921875,
       "initial": 0,
       "n": 0,
       "ncols": null,
       "nrows": null,
       "postfix": null,
       "prefix": "Downloading (…)okenizer_config.json",
       "rate": null,
       "total": 244,
       "unit": "B",
       "unit_divisor": 1000,
       "unit_scale": true
      },
      "application/vnd.jupyter.widget-view+json": {
       "model_id": "0a5b8d1d5818417081eeea094031a42c",
       "version_major": 2,
       "version_minor": 0
      },
      "text/plain": [
       "Downloading (…)okenizer_config.json:   0%|          | 0.00/244 [00:00<?, ?B/s]"
      ]
     },
     "metadata": {},
     "output_type": "display_data"
    }
   ],
   "source": [
    "from huggingface_hub import snapshot_download\n",
    "from pathlib import Path\n",
    "\n",
    "\n",
    "local_cache_path = Path(\"./model\")\n",
    "local_cache_path.mkdir(exist_ok=True)\n",
    "\n",
    "model_name = \"THUDM/chatglm2-6b\"\n",
    "\n",
    "# Only download pytorch checkpoint files\n",
    "allow_patterns = [\"*.json\", \"*.pt\", \"*.bin\", \"*.model\", \"*.py\"]\n",
    "\n",
    "model_download_path = snapshot_download(\n",
    "    repo_id=model_name,\n",
    "    cache_dir=local_cache_path,\n",
    "    allow_patterns=allow_patterns,\n",
    ")"
   ]
  },
  {
   "cell_type": "code",
   "execution_count": 5,
   "id": "42c0ce80-883b-46bf-a642-e8f69a5fdaab",
   "metadata": {
    "tags": []
   },
   "outputs": [
    {
     "name": "stdout",
     "output_type": "stream",
     "text": [
      "./model/models--THUDM--chatglm2-6b/snapshots/b1502f4f75c71499a3d566b14463edd62620ce9f/\n"
     ]
    }
   ],
   "source": [
    "# Get the model files path\n",
    "import os\n",
    "from glob import glob\n",
    "\n",
    "local_model_path = None\n",
    "\n",
    "paths = os.walk(r'./model')\n",
    "for root, dirs, files in paths:\n",
    "    for file in files:\n",
    "        if file == 'config.json':\n",
    "            # print(os.path.join(root, file))\n",
    "            local_model_path = str(os.path.join(root, file))[0:-11]\n",
    "            print(local_model_path)\n",
    "if local_model_path == None:\n",
    "    print(\"Model download may failed, please check prior step!\")"
   ]
  },
  {
   "cell_type": "markdown",
   "id": "e2fa337d-f4ab-4182-884a-0d1b36c7e8c6",
   "metadata": {},
   "source": [
    "## 1.6 将ChatGLM2原始模型拷贝到 S3"
   ]
  },
  {
   "cell_type": "code",
   "execution_count": 6,
   "id": "47937a52-ca54-4041-b2da-b3f02735d6a9",
   "metadata": {
    "collapsed": true,
    "jupyter": {
     "outputs_hidden": true
    },
    "tags": []
   },
   "outputs": [
    {
     "name": "stdout",
     "output_type": "stream",
     "text": [
      "cp model/models--THUDM--chatglm2-6b/snapshots/b1502f4f75c71499a3d566b14463edd62620ce9f/pytorch_model.bin.index.json s3://sagemaker-us-west-2-687912291502/llm/models/chatglm2/original-6B/pytorch_model.bin.index.json\n",
      "cp model/models--THUDM--chatglm2-6b/snapshots/b1502f4f75c71499a3d566b14463edd62620ce9f/tokenization_chatglm.py s3://sagemaker-us-west-2-687912291502/llm/models/chatglm2/original-6B/tokenization_chatglm.py\n",
      "cp model/models--THUDM--chatglm2-6b/snapshots/b1502f4f75c71499a3d566b14463edd62620ce9f/configuration_chatglm.py s3://sagemaker-us-west-2-687912291502/llm/models/chatglm2/original-6B/configuration_chatglm.py\n",
      "cp model/models--THUDM--chatglm2-6b/snapshots/b1502f4f75c71499a3d566b14463edd62620ce9f/tokenizer.model s3://sagemaker-us-west-2-687912291502/llm/models/chatglm2/original-6B/tokenizer.model\n",
      "cp model/models--THUDM--chatglm2-6b/snapshots/b1502f4f75c71499a3d566b14463edd62620ce9f/config.json s3://sagemaker-us-west-2-687912291502/llm/models/chatglm2/original-6B/config.json\n",
      "cp model/models--THUDM--chatglm2-6b/snapshots/b1502f4f75c71499a3d566b14463edd62620ce9f/quantization.py s3://sagemaker-us-west-2-687912291502/llm/models/chatglm2/original-6B/quantization.py\n",
      "cp model/models--THUDM--chatglm2-6b/snapshots/b1502f4f75c71499a3d566b14463edd62620ce9f/tokenizer_config.json s3://sagemaker-us-west-2-687912291502/llm/models/chatglm2/original-6B/tokenizer_config.json\n",
      "cp model/models--THUDM--chatglm2-6b/snapshots/b1502f4f75c71499a3d566b14463edd62620ce9f/modeling_chatglm.py s3://sagemaker-us-west-2-687912291502/llm/models/chatglm2/original-6B/modeling_chatglm.py\n",
      "cp model/models--THUDM--chatglm2-6b/snapshots/b1502f4f75c71499a3d566b14463edd62620ce9f/pytorch_model-00007-of-00007.bin s3://sagemaker-us-west-2-687912291502/llm/models/chatglm2/original-6B/pytorch_model-00007-of-00007.bin\n",
      "cp model/models--THUDM--chatglm2-6b/snapshots/b1502f4f75c71499a3d566b14463edd62620ce9f/pytorch_model-00004-of-00007.bin s3://sagemaker-us-west-2-687912291502/llm/models/chatglm2/original-6B/pytorch_model-00004-of-00007.bin\n",
      "cp model/models--THUDM--chatglm2-6b/snapshots/b1502f4f75c71499a3d566b14463edd62620ce9f/pytorch_model-00001-of-00007.bin s3://sagemaker-us-west-2-687912291502/llm/models/chatglm2/original-6B/pytorch_model-00001-of-00007.bin\n",
      "cp model/models--THUDM--chatglm2-6b/snapshots/b1502f4f75c71499a3d566b14463edd62620ce9f/pytorch_model-00002-of-00007.bin s3://sagemaker-us-west-2-687912291502/llm/models/chatglm2/original-6B/pytorch_model-00002-of-00007.bin\n",
      "cp model/models--THUDM--chatglm2-6b/snapshots/b1502f4f75c71499a3d566b14463edd62620ce9f/pytorch_model-00003-of-00007.bin s3://sagemaker-us-west-2-687912291502/llm/models/chatglm2/original-6B/pytorch_model-00003-of-00007.bin\n",
      "cp model/models--THUDM--chatglm2-6b/snapshots/b1502f4f75c71499a3d566b14463edd62620ce9f/pytorch_model-00006-of-00007.bin s3://sagemaker-us-west-2-687912291502/llm/models/chatglm2/original-6B/pytorch_model-00006-of-00007.bin\n",
      "cp model/models--THUDM--chatglm2-6b/snapshots/b1502f4f75c71499a3d566b14463edd62620ce9f/pytorch_model-00005-of-00007.bin s3://sagemaker-us-west-2-687912291502/llm/models/chatglm2/original-6B/pytorch_model-00005-of-00007.bin\n"
     ]
    }
   ],
   "source": [
    "%%script env sagemaker_default_bucket=$sagemaker_default_bucket local_model_path=$local_model_path bash\n",
    "\n",
    "s5cmd sync ${local_model_path} s3://${sagemaker_default_bucket}/llm/models/chatglm2/original-6B/\n",
    "\n",
    "# rm -rf model"
   ]
  },
  {
   "cell_type": "markdown",
   "id": "23a16e22-ad1a-44b3-a174-b0f6a8a96c80",
   "metadata": {
    "tags": []
   },
   "source": [
    "# 2. 准备数据集"
   ]
  },
  {
   "cell_type": "markdown",
   "id": "19d9a1eb-f83f-4b18-9a0b-ee83adbbb621",
   "metadata": {},
   "source": [
    "## 2.1 准备数据目录\n",
    "\n",
    "夸父健康数据集:根据输入,输出广告词,如下所示:\n",
    "```JSON\n",
    "{\n",
    "  \"content\":\"需求:完成用户的运动建议的意见修改|数据信息:增加核心训练次数;参考信息:undefined\",\n",
    "  \"summary\":\"根据您的修改意见，我增加了核心训练次数，以帮助您更好地改善体态异常。\"\n",
    "}\n",
    "```\n",
    "建立`KuaFuTrainData` 目录放到本目录下，并上传 `train.json` 与 `dev.json`。"
   ]
  },
  {
   "cell_type": "code",
   "execution_count": 7,
   "id": "41c50a39-37e9-4308-b7c0-66693862b729",
   "metadata": {
    "tags": []
   },
   "outputs": [],
   "source": [
    "# 创建文件夹\n",
    "!mkdir KuaFuTrainData\n",
    "\n",
    "# 自行上传数据"
   ]
  },
  {
   "cell_type": "markdown",
   "id": "53a7c26c-952d-4c07-83e5-646efed110fb",
   "metadata": {},
   "source": [
    "## 2.2 将数据集到S3\n",
    "也可以忽略2.1与2.2，在本地直接将数据上传至 s3://${sagemaker_default_bucket}/llm/datasets/chatglm2/KuaFuTrainData/"
   ]
  },
  {
   "cell_type": "code",
   "execution_count": 20,
   "id": "088797c9-5995-4c6e-bded-d373e58cad80",
   "metadata": {
    "tags": []
   },
   "outputs": [
    {
     "name": "stdout",
     "output_type": "stream",
     "text": [
      "cp KuaFuTrainData/dev.json s3://sagemaker-us-west-2-687912291502/llm/datasets/chatglm2/KuaFuTrainData/dev.json\n",
      "cp KuaFuTrainData/train.json s3://sagemaker-us-west-2-687912291502/llm/datasets/chatglm2/KuaFuTrainData/train.json\n"
     ]
    }
   ],
   "source": [
    "%%script env sagemaker_default_bucket=$sagemaker_default_bucket bash\n",
    "\n",
    "s5cmd sync ./KuaFuTrainData/ s3://${sagemaker_default_bucket}/llm/datasets/chatglm2/KuaFuTrainData/\n",
    "\n",
    "# rm -rf KuaFuTrainData"
   ]
  },
  {
   "cell_type": "markdown",
   "id": "800caa83-69d8-433b-980a-23cd2e6cb50b",
   "metadata": {
    "tags": []
   },
   "source": [
    "# 3. 开始微调模型准备"
   ]
  },
  {
   "cell_type": "markdown",
   "id": "7052d461-6f2b-497e-83cc-d90517465e4f",
   "metadata": {
    "tags": []
   },
   "source": [
    "## 3.1 准备微调代码\n",
    "### 复写 ChatGLM2-6B/ptuning/arguments.py 文件\n",
    "与原始文件相比，增加了 ```model_output_s3_path``` 参数"
   ]
  },
  {
   "cell_type": "code",
   "execution_count": 9,
   "id": "87c80278-69f6-42c8-a15e-22e64d240b76",
   "metadata": {
    "tags": []
   },
   "outputs": [
    {
     "name": "stdout",
     "output_type": "stream",
     "text": [
      "Overwriting ChatGLM2-6B/ptuning/arguments.py\n"
     ]
    }
   ],
   "source": [
    "%%writefile ChatGLM2-6B/ptuning/arguments.py\n",
    "\n",
    "from dataclasses import dataclass, field\n",
    "from typing import Optional\n",
    "\n",
    "\n",
    "@dataclass\n",
    "class ModelArguments:\n",
    "    \"\"\"\n",
    "    Arguments pertaining to which model/config/tokenizer we are going to fine-tune from.\n",
    "    \"\"\"\n",
    "        \n",
    "    model_output_s3_path: str = field(\n",
    "        metadata={\"help\": \"Path to model saved in s3 path using s5cmd utily\"}\n",
    "    )\n",
    "    \n",
    "        \n",
    "    model_name_or_path: str = field(\n",
    "        metadata={\"help\": \"Path to pretrained model or model identifier from huggingface.co/models\"}\n",
    "    )\n",
    "    ptuning_checkpoint: str = field(\n",
    "        default=None, metadata={\"help\": \"Path to p-tuning v2 checkpoints\"}\n",
    "    )\n",
    "    config_name: Optional[str] = field(\n",
    "        default=None, metadata={\"help\": \"Pretrained config name or path if not the same as model_name\"}\n",
    "    )\n",
    "    tokenizer_name: Optional[str] = field(\n",
    "        default=None, metadata={\"help\": \"Pretrained tokenizer name or path if not the same as model_name\"}\n",
    "    )\n",
    "    cache_dir: Optional[str] = field(\n",
    "        default=None,\n",
    "        metadata={\"help\": \"Where to store the pretrained models downloaded from huggingface.co\"},\n",
    "    )\n",
    "    use_fast_tokenizer: bool = field(\n",
    "        default=True,\n",
    "        metadata={\"help\": \"Whether to use one of the fast tokenizer (backed by the tokenizers library) or not.\"},\n",
    "    )\n",
    "    model_revision: str = field(\n",
    "        default=\"main\",\n",
    "        metadata={\"help\": \"The specific model version to use (can be a branch name, tag name or commit id).\"},\n",
    "    )\n",
    "    use_auth_token: bool = field(\n",
    "        default=False,\n",
    "        metadata={\n",
    "            \"help\": (\n",
    "                \"Will use the token generated when running `huggingface-cli login` (necessary to use this script \"\n",
    "                \"with private models).\"\n",
    "            )\n",
    "        },\n",
    "    )\n",
    "    resize_position_embeddings: Optional[bool] = field(\n",
    "        default=None,\n",
    "        metadata={\n",
    "            \"help\": (\n",
    "                \"Whether to automatically resize the position embeddings if `max_source_length` exceeds \"\n",
    "                \"the model's position embeddings.\"\n",
    "            )\n",
    "        },\n",
    "    )\n",
    "    quantization_bit: Optional[int] = field(\n",
    "        default=None\n",
    "    )\n",
    "    pre_seq_len: Optional[int] = field(\n",
    "        default=None\n",
    "    )\n",
    "    prefix_projection: bool = field(\n",
    "        default=False\n",
    "    )\n",
    "\n",
    "\n",
    "@dataclass\n",
    "class DataTrainingArguments:\n",
    "    \"\"\"\n",
    "    Arguments pertaining to what data we are going to input our model for training and eval.\n",
    "    \"\"\"\n",
    "\n",
    "    lang: Optional[str] = field(default=None, metadata={\"help\": \"Language id for summarization.\"})\n",
    "\n",
    "    dataset_name: Optional[str] = field(\n",
    "        default=None, metadata={\"help\": \"The name of the dataset to use (via the datasets library).\"}\n",
    "    )\n",
    "    dataset_config_name: Optional[str] = field(\n",
    "        default=None, metadata={\"help\": \"The configuration name of the dataset to use (via the datasets library).\"}\n",
    "    )\n",
    "    prompt_column: Optional[str] = field(\n",
    "        default=None,\n",
    "        metadata={\"help\": \"The name of the column in the datasets containing the full texts (for summarization).\"},\n",
    "    )\n",
    "    response_column: Optional[str] = field(\n",
    "        default=None,\n",
    "        metadata={\"help\": \"The name of the column in the datasets containing the summaries (for summarization).\"},\n",
    "    )\n",
    "    history_column: Optional[str] = field(\n",
    "        default=None,\n",
    "        metadata={\"help\": \"The name of the column in the datasets containing the history of chat.\"},\n",
    "    )\n",
    "    train_file: Optional[str] = field(\n",
    "        default=None, metadata={\"help\": \"The input training data file (a jsonlines or csv file).\"}\n",
    "    )\n",
    "    validation_file: Optional[str] = field(\n",
    "        default=None,\n",
    "        metadata={\n",
    "            \"help\": (\n",
    "                \"An optional input evaluation data file to evaluate the metrics (rouge) on (a jsonlines or csv file).\"\n",
    "            )\n",
    "        },\n",
    "    )\n",
    "    test_file: Optional[str] = field(\n",
    "        default=None,\n",
    "        metadata={\n",
    "            \"help\": \"An optional input test data file to evaluate the metrics (rouge) on (a jsonlines or csv file).\"\n",
    "        },\n",
    "    )\n",
    "    overwrite_cache: bool = field(\n",
    "        default=False, metadata={\"help\": \"Overwrite the cached training and evaluation sets\"}\n",
    "    )\n",
    "    train_simple: bool = field(\n",
    "        default=False, metadata={\"help\": \"whether use single node single GPU fine tuning\"}\n",
    "    )\n",
    "    train_mutipl: bool = field(\n",
    "        default=False, metadata={\"help\": \"whether use mutiple node mutiple GPU fine tuning\"}\n",
    "    )\n",
    "    preprocessing_num_workers: Optional[int] = field(\n",
    "        default=None,\n",
    "        metadata={\"help\": \"The number of processes to use for the preprocessing.\"},\n",
    "    )\n",
    "    max_source_length: Optional[int] = field(\n",
    "        default=1024,\n",
    "        metadata={\n",
    "            \"help\": (\n",
    "                \"The maximum total input sequence length after tokenization. Sequences longer \"\n",
    "                \"than this will be truncated, sequences shorter will be padded.\"\n",
    "            )\n",
    "        },\n",
    "    )\n",
    "    max_target_length: Optional[int] = field(\n",
    "        default=128,\n",
    "        metadata={\n",
    "            \"help\": (\n",
    "                \"The maximum total sequence length for target text after tokenization. Sequences longer \"\n",
    "                \"than this will be truncated, sequences shorter will be padded.\"\n",
    "            )\n",
    "        },\n",
    "    )\n",
    "    val_max_target_length: Optional[int] = field(\n",
    "        default=None,\n",
    "        metadata={\n",
    "            \"help\": (\n",
    "                \"The maximum total sequence length for validation target text after tokenization. Sequences longer \"\n",
    "                \"than this will be truncated, sequences shorter will be padded. Will default to `max_target_length`.\"\n",
    "                \"This argument is also used to override the ``max_length`` param of ``model.generate``, which is used \"\n",
    "                \"during ``evaluate`` and ``predict``.\"\n",
    "            )\n",
    "        },\n",
    "    )\n",
    "    pad_to_max_length: bool = field(\n",
    "        default=False,\n",
    "        metadata={\n",
    "            \"help\": (\n",
    "                \"Whether to pad all samples to model maximum sentence length. \"\n",
    "                \"If False, will pad the samples dynamically when batching to the maximum length in the batch. More \"\n",
    "                \"efficient on GPU but very bad for TPU.\"\n",
    "            )\n",
    "        },\n",
    "    )\n",
    "    max_train_samples: Optional[int] = field(\n",
    "        default=None,\n",
    "        metadata={\n",
    "            \"help\": (\n",
    "                \"For debugging purposes or quicker training, truncate the number of training examples to this \"\n",
    "                \"value if set.\"\n",
    "            )\n",
    "        },\n",
    "    )\n",
    "    max_eval_samples: Optional[int] = field(\n",
    "        default=None,\n",
    "        metadata={\n",
    "            \"help\": (\n",
    "                \"For debugging purposes or quicker training, truncate the number of evaluation examples to this \"\n",
    "                \"value if set.\"\n",
    "            )\n",
    "        },\n",
    "    )\n",
    "    max_predict_samples: Optional[int] = field(\n",
    "        default=None,\n",
    "        metadata={\n",
    "            \"help\": (\n",
    "                \"For debugging purposes or quicker training, truncate the number of prediction examples to this \"\n",
    "                \"value if set.\"\n",
    "            )\n",
    "        },\n",
    "    )\n",
    "    num_beams: Optional[int] = field(\n",
    "        default=None,\n",
    "        metadata={\n",
    "            \"help\": (\n",
    "                \"Number of beams to use for evaluation. This argument will be passed to ``model.generate``, \"\n",
    "                \"which is used during ``evaluate`` and ``predict``.\"\n",
    "            )\n",
    "        },\n",
    "    )\n",
    "    ignore_pad_token_for_loss: bool = field(\n",
    "        default=True,\n",
    "        metadata={\n",
    "            \"help\": \"Whether to ignore the tokens corresponding to padded labels in the loss computation or not.\"\n",
    "        },\n",
    "    )\n",
    "    source_prefix: Optional[str] = field(\n",
    "        default=\"\", metadata={\"help\": \"A prefix to add before every source text (useful for T5 models).\"}\n",
    "    )\n",
    "\n",
    "    forced_bos_token: Optional[str] = field(\n",
    "        default=None,\n",
    "        metadata={\n",
    "            \"help\": (\n",
    "                \"The token to force as the first generated token after the decoder_start_token_id.\"\n",
    "                \"Useful for multilingual models like mBART where the first generated token\"\n",
    "                \"needs to be the target language token (Usually it is the target language token)\"\n",
    "            )\n",
    "        },\n",
    "    )\n",
    "\n",
    "    \n",
    "\n",
    "    def __post_init__(self):\n",
    "        if self.dataset_name is None and self.train_file is None and self.validation_file is None and self.test_file is None:\n",
    "            raise ValueError(\"Need either a dataset name or a training/validation/test file.\")\n",
    "        else:\n",
    "            if self.train_file is not None:\n",
    "                extension = self.train_file.split(\".\")[-1]\n",
    "                assert extension in [\"csv\", \"json\"], \"`train_file` should be a csv or a json file.\"\n",
    "            if self.validation_file is not None:\n",
    "                extension = self.validation_file.split(\".\")[-1]\n",
    "                assert extension in [\"csv\", \"json\"], \"`validation_file` should be a csv or a json file.\"\n",
    "        if self.val_max_target_length is None:\n",
    "            self.val_max_target_length = self.max_target_length"
   ]
  },
  {
   "cell_type": "markdown",
   "id": "a792579b-930e-479a-9f4a-4316c80808aa",
   "metadata": {},
   "source": [
    "### 增加 ChatGLM2-6B/ptuning/main_tuning.py"
   ]
  },
  {
   "cell_type": "code",
   "execution_count": 41,
   "id": "7489ee67-d15f-4d03-a846-8caaced2d428",
   "metadata": {
    "tags": []
   },
   "outputs": [
    {
     "name": "stdout",
     "output_type": "stream",
     "text": [
      "Overwriting ChatGLM2-6B/ptuning/main_tuning.py\n"
     ]
    }
   ],
   "source": [
    "%%writefile ChatGLM2-6B/ptuning/main_tuning.py\n",
    "\n",
    "#!/usr/bin/env python\n",
    "# coding=utf-8\n",
    "# Copyright 2021 The HuggingFace Team. All rights reserved.\n",
    "#\n",
    "# Licensed under the Apache License, Version 2.0 (the \"License\");\n",
    "# you may not use this file except in compliance with the License.\n",
    "# You may obtain a copy of the License at\n",
    "#\n",
    "#     http://www.apache.org/licenses/LICENSE-2.0\n",
    "#\n",
    "# Unless required by applicable law or agreed to in writing, software\n",
    "# distributed under the License is distributed on an \"AS IS\" BASIS,\n",
    "# WITHOUT WARRANTIES OR CONDITIONS OF ANY KIND, either express or implied.\n",
    "# See the License for the specific language governing permissions and\n",
    "# limitations under the License.\n",
    "\"\"\"\n",
    "Fine-tuning the library models for sequence to sequence.\n",
    "\"\"\"\n",
    "# You can also adapt this script on your own sequence to sequence task. Pointers for this are left as comments.\n",
    "\n",
    "import logging\n",
    "import os\n",
    "import sys\n",
    "import json\n",
    "\n",
    "import numpy as np\n",
    "from datasets import load_dataset\n",
    "import jieba \n",
    "from rouge_chinese import Rouge\n",
    "from nltk.translate.bleu_score import sentence_bleu, SmoothingFunction\n",
    "import torch\n",
    "import deepspeed\n",
    "import torch.distributed as dist\n",
    "\n",
    "import transformers\n",
    "from transformers import (\n",
    "    AutoConfig,\n",
    "    AutoModel,\n",
    "    AutoTokenizer,\n",
    "    DataCollatorForSeq2Seq,\n",
    "    HfArgumentParser,\n",
    "    Seq2SeqTrainingArguments,\n",
    "    set_seed,\n",
    ")\n",
    "from trainer_seq2seq import Seq2SeqTrainer\n",
    "\n",
    "from arguments import ModelArguments, DataTrainingArguments\n",
    "\n",
    "logger = logging.getLogger(__name__)\n",
    "\n",
    "def main():\n",
    "    parser = HfArgumentParser((ModelArguments, DataTrainingArguments, Seq2SeqTrainingArguments))\n",
    "    if len(sys.argv) == 2 and sys.argv[1].endswith(\".json\"):\n",
    "        # If we pass only one argument to the script and it's the path to a json file,\n",
    "        # let's parse it to get our arguments.\n",
    "        model_args, data_args, training_args = parser.parse_json_file(json_file=os.path.abspath(sys.argv[1]))\n",
    "    else:\n",
    "        model_args, data_args, training_args = parser.parse_args_into_dataclasses()\n",
    "        \n",
    "    ## if mutil-node train , set torch.distribute initial ###########\n",
    "    #if data_args.train_mutipl:\n",
    "    #    # Environment variables set by torch.distributed.launch\n",
    "    #    LOCAL_RANK = int(os.environ['LOCAL_RANK'])\n",
    "    #    WORLD_SIZE = int(os.environ['WORLD_SIZE'])\n",
    "    #    WORLD_RANK = int(os.environ['RANK'])\n",
    "    #    \n",
    "    #    dist.init_process_group(backend='nccl', rank=WORLD_RANK, world_size=WORLD_SIZE)\n",
    "\n",
    "    # Setup logging\n",
    "    logging.basicConfig(\n",
    "        format=\"%(asctime)s - %(levelname)s - %(name)s - %(message)s\",\n",
    "        datefmt=\"%m/%d/%Y %H:%M:%S\",\n",
    "        handlers=[logging.StreamHandler(sys.stdout)],\n",
    "    )\n",
    "\n",
    "    if training_args.should_log:\n",
    "        # The default of training_args.log_level is passive, so we set log level at info here to have that default.\n",
    "        transformers.utils.logging.set_verbosity_info()\n",
    "\n",
    "    log_level = training_args.get_process_log_level()\n",
    "    logger.setLevel(log_level)\n",
    "    # datasets.utils.logging.set_verbosity(log_level)\n",
    "    transformers.utils.logging.set_verbosity(log_level)\n",
    "    transformers.utils.logging.enable_default_handler()\n",
    "    transformers.utils.logging.enable_explicit_format()\n",
    "\n",
    "    # Log on each process the small summary:\n",
    "    logger.warning(\n",
    "        f\"Process rank: {training_args.local_rank}, device: {training_args.device}, n_gpu: {training_args.n_gpu}\"\n",
    "        + f\"distributed training: {bool(training_args.local_rank != -1)}, 16-bits training: {training_args.fp16}\"\n",
    "    )\n",
    "    logger.info(f\"Training/evaluation parameters {training_args}\")\n",
    "\n",
    "    # Set seed before initializing model.\n",
    "    set_seed(training_args.seed)\n",
    "\n",
    "    # Load dataset\n",
    "    data_files = {}\n",
    "    if data_args.train_file is not None:\n",
    "        data_files[\"train\"] = data_args.train_file\n",
    "        extension = data_args.train_file.split(\".\")[-1]\n",
    "    if data_args.validation_file is not None:\n",
    "        data_files[\"validation\"] = data_args.validation_file\n",
    "        extension = data_args.validation_file.split(\".\")[-1]\n",
    "    if data_args.test_file is not None:\n",
    "        data_files[\"test\"] = data_args.test_file\n",
    "        extension = data_args.test_file.split(\".\")[-1]\n",
    "\n",
    "    raw_datasets = load_dataset(\n",
    "        extension,\n",
    "        data_files=data_files,\n",
    "        cache_dir=model_args.cache_dir,\n",
    "        use_auth_token=True if model_args.use_auth_token else None,\n",
    "    )\n",
    "    \n",
    "    # if s3 path model, use s5cmd to download the model to /tmp/orignal/ for model load\n",
    "    if model_args.model_name_or_path.startswith(\"s3\"):\n",
    "        #Note: if deepspeed fine tuning ,we just use the rank 0 process to download the model assets to S3 by s5cmd command.\n",
    "        if data_args.train_simple == False:\n",
    "            WORLD_RANK = int(os.environ['RANK'])\n",
    "            print(\"world_rank===\"+str(WORLD_RANK))\n",
    "            if WORLD_RANK == 0:\n",
    "                os.system(\"cp ./s5cmd  /tmp/ && chmod +x /tmp/s5cmd\")\t\n",
    "                os.system(\"/tmp/s5cmd sync {0} {1}\".format(model_args.model_name_or_path + \"*\", \"/tmp/orignal/\"))\n",
    "\n",
    "                print(\"sync s3 model \" + model_args.model_name_or_path + \"to /tmp/orignal:\")\n",
    "                model_args.model_name_or_path = \"/tmp/orignal/\"\n",
    "                print(os.listdir(model_args.model_name_or_path))\n",
    "            else: \n",
    "                model_args.model_name_or_path = \"/tmp/orignal/\"\n",
    "            #Note: we should sync with every ranker and ensure rank 0 uploading the model assets successfully. \n",
    "            torch.distributed.barrier()\n",
    "        else:\n",
    "            os.system(\"cp ./s5cmd  /tmp/ && chmod +x /tmp/s5cmd\")\t\n",
    "            os.system(\"/tmp/s5cmd sync {0} {1}\".format(model_args.model_name_or_path + \"*\", \"/tmp/orignal/\"))\n",
    "\n",
    "            print(\"sync s3 model \" + model_args.model_name_or_path + \"to /tmp/orignal:\")\n",
    "            model_args.model_name_or_path = \"/tmp/orignal/\"\n",
    "            print(os.listdir(model_args.model_name_or_path))\n",
    "\n",
    "    # Load pretrained model and tokenizer\n",
    "    config = AutoConfig.from_pretrained(model_args.model_name_or_path, trust_remote_code=True)\n",
    "    config.pre_seq_len = model_args.pre_seq_len\n",
    "    config.prefix_projection = model_args.prefix_projection\n",
    "\n",
    "    tokenizer = AutoTokenizer.from_pretrained(model_args.model_name_or_path, trust_remote_code=True)\n",
    "\n",
    "    if model_args.ptuning_checkpoint is not None:\n",
    "        # Evaluation\n",
    "        # Loading extra state dict of prefix encoder\n",
    "        model = AutoModel.from_pretrained(model_args.model_name_or_path, config=config, trust_remote_code=True)\n",
    "        prefix_state_dict = torch.load(os.path.join(model_args.ptuning_checkpoint, \"pytorch_model.bin\"))\n",
    "        new_prefix_state_dict = {}\n",
    "        for k, v in prefix_state_dict.items():\n",
    "            if k.startswith(\"transformer.prefix_encoder.\"):\n",
    "                new_prefix_state_dict[k[len(\"transformer.prefix_encoder.\"):]] = v\n",
    "        model.transformer.prefix_encoder.load_state_dict(new_prefix_state_dict)\n",
    "    else:\n",
    "        model = AutoModel.from_pretrained(model_args.model_name_or_path, config=config, trust_remote_code=True)\n",
    "        #model = AutoModel.from_pretrained(model_args.model_name_or_path, trust_remote_code=True)\n",
    "\n",
    "    if model_args.quantization_bit is not None:\n",
    "        print(f\"Quantized to {model_args.quantization_bit} bit\")\n",
    "        model = model.quantize(model_args.quantization_bit)\n",
    "    if model_args.pre_seq_len is not None:\n",
    "        # P-tuning v2\n",
    "        model = model.half()\n",
    "        model.transformer.prefix_encoder.float()\n",
    "    else:\n",
    "        # Finetune\n",
    "        model = model.float()\n",
    "\n",
    "    prefix = data_args.source_prefix if data_args.source_prefix is not None else \"\"\n",
    "\n",
    "    # Preprocessing the datasets.\n",
    "    # We need to tokenize inputs and targets.\n",
    "    if training_args.do_train:\n",
    "        column_names = raw_datasets[\"train\"].column_names\n",
    "    elif training_args.do_eval:\n",
    "        column_names = raw_datasets[\"validation\"].column_names\n",
    "    elif training_args.do_predict:\n",
    "        column_names = raw_datasets[\"test\"].column_names\n",
    "    else:\n",
    "        logger.info(\"There is nothing to do. Please pass `do_train`, `do_eval` and/or `do_predict`.\")\n",
    "        return\n",
    "\n",
    "    # Get the column names for input/target.\n",
    "    prompt_column = data_args.prompt_column\n",
    "    response_column = data_args.response_column\n",
    "    history_column = data_args.history_column\n",
    "    \n",
    "    # Temporarily set max_target_length for training.\n",
    "    max_target_length = data_args.max_target_length\n",
    "\n",
    "    def preprocess_function_eval(examples):\n",
    "        inputs, targets = [], []\n",
    "        for i in range(len(examples[prompt_column])):\n",
    "            if examples[prompt_column][i] and examples[response_column][i]:\n",
    "                query = examples[prompt_column][i]\n",
    "                history = examples[history_column][i] if history_column is not None else None\n",
    "                prompt = tokenizer.build_prompt(query, history)\n",
    "                inputs.append(prompt)\n",
    "                targets.append(examples[response_column][i])\n",
    "\n",
    "        inputs = [prefix + inp for inp in inputs]\n",
    "        model_inputs = tokenizer(inputs, max_length=data_args.max_source_length, truncation=True, padding=True)\n",
    "        labels = tokenizer(text_target=targets, max_length=max_target_length, truncation=True)\n",
    "\n",
    "        if data_args.ignore_pad_token_for_loss:\n",
    "            labels[\"input_ids\"] = [\n",
    "                [(l if l != tokenizer.pad_token_id else -100) for l in label] for label in labels[\"input_ids\"]\n",
    "            ]\n",
    "        model_inputs[\"labels\"] = labels[\"input_ids\"]\n",
    "\n",
    "        return model_inputs\n",
    "\n",
    "    def preprocess_function_train(examples):\n",
    "        max_seq_length = data_args.max_source_length + data_args.max_target_length + 1\n",
    "\n",
    "        model_inputs = {\n",
    "            \"input_ids\": [],\n",
    "            \"labels\": [],\n",
    "        }\n",
    "        for i in range(len(examples[prompt_column])):\n",
    "            if examples[prompt_column][i] and examples[response_column][i]:\n",
    "                query, answer = examples[prompt_column][i], examples[response_column][i]\n",
    "\n",
    "                history = examples[history_column][i] if history_column is not None else None\n",
    "                prompt = tokenizer.build_prompt(query, history)\n",
    "\n",
    "                prompt = prefix + prompt\n",
    "                a_ids = tokenizer.encode(text=prompt, add_special_tokens=True, truncation=True,\n",
    "                                         max_length=data_args.max_source_length)\n",
    "                b_ids = tokenizer.encode(text=answer, add_special_tokens=False, truncation=True,\n",
    "                                         max_length=data_args.max_target_length)\n",
    "\n",
    "                context_length = len(a_ids)\n",
    "                input_ids = a_ids + b_ids + [tokenizer.eos_token_id]\n",
    "                labels = [tokenizer.pad_token_id] * context_length + b_ids + [tokenizer.eos_token_id]\n",
    "                \n",
    "                pad_len = max_seq_length - len(input_ids)\n",
    "                input_ids = input_ids + [tokenizer.pad_token_id] * pad_len\n",
    "                labels = labels + [tokenizer.pad_token_id] * pad_len\n",
    "                if data_args.ignore_pad_token_for_loss:\n",
    "                    labels = [(l if l != tokenizer.pad_token_id else -100) for l in labels]\n",
    "\n",
    "                model_inputs[\"input_ids\"].append(input_ids)\n",
    "                model_inputs[\"labels\"].append(labels)\n",
    "\n",
    "        return model_inputs\n",
    "    \n",
    "    def print_dataset_example(example):\n",
    "        print(\"input_ids\", example[\"input_ids\"])\n",
    "        print(\"inputs\", tokenizer.decode(example[\"input_ids\"]))\n",
    "        print(\"label_ids\", example[\"labels\"])\n",
    "        print(\"labels\", tokenizer.decode(example[\"labels\"]))\n",
    "\n",
    "    if training_args.do_train:\n",
    "        if \"train\" not in raw_datasets:\n",
    "            raise ValueError(\"--do_train requires a train dataset\")\n",
    "        train_dataset = raw_datasets[\"train\"]\n",
    "        if data_args.max_train_samples is not None:\n",
    "            max_train_samples = min(len(train_dataset), data_args.max_train_samples)\n",
    "            train_dataset = train_dataset.select(range(max_train_samples))\n",
    "        with training_args.main_process_first(desc=\"train dataset map pre-processing\"):\n",
    "            train_dataset = train_dataset.map(\n",
    "                preprocess_function_train,\n",
    "                batched=True,\n",
    "                num_proc=data_args.preprocessing_num_workers,\n",
    "                remove_columns=column_names,\n",
    "                load_from_cache_file=not data_args.overwrite_cache,\n",
    "                desc=\"Running tokenizer on train dataset\",\n",
    "            )\n",
    "        print_dataset_example(train_dataset[0])\n",
    "\n",
    "    if training_args.do_eval:\n",
    "        max_target_length = data_args.val_max_target_length\n",
    "        if \"validation\" not in raw_datasets:\n",
    "            raise ValueError(\"--do_eval requires a validation dataset\")\n",
    "        eval_dataset = raw_datasets[\"validation\"]\n",
    "        if data_args.max_eval_samples is not None:\n",
    "            max_eval_samples = min(len(eval_dataset), data_args.max_eval_samples)\n",
    "            eval_dataset = eval_dataset.select(range(max_eval_samples))\n",
    "        with training_args.main_process_first(desc=\"validation dataset map pre-processing\"):\n",
    "            eval_dataset = eval_dataset.map(\n",
    "                preprocess_function_eval,\n",
    "                batched=True,\n",
    "                num_proc=data_args.preprocessing_num_workers,\n",
    "                remove_columns=column_names,\n",
    "                load_from_cache_file=not data_args.overwrite_cache,\n",
    "                desc=\"Running tokenizer on validation dataset\",\n",
    "            )\n",
    "        print_dataset_example(eval_dataset[0])\n",
    "\n",
    "    if training_args.do_predict:\n",
    "        max_target_length = data_args.val_max_target_length\n",
    "        if \"test\" not in raw_datasets:\n",
    "            raise ValueError(\"--do_predict requires a test dataset\")\n",
    "        predict_dataset = raw_datasets[\"test\"]\n",
    "        if data_args.max_predict_samples is not None:\n",
    "            max_predict_samples = min(len(predict_dataset), data_args.max_predict_samples)\n",
    "            predict_dataset = predict_dataset.select(range(max_predict_samples))\n",
    "        with training_args.main_process_first(desc=\"prediction dataset map pre-processing\"):\n",
    "            predict_dataset = predict_dataset.map(\n",
    "                preprocess_function_eval,\n",
    "                batched=True,\n",
    "                num_proc=data_args.preprocessing_num_workers,\n",
    "                remove_columns=column_names,\n",
    "                load_from_cache_file=not data_args.overwrite_cache,\n",
    "                desc=\"Running tokenizer on prediction dataset\",\n",
    "            )\n",
    "        print_dataset_example(predict_dataset[0])\n",
    "\n",
    "    # Data collator\n",
    "    label_pad_token_id = -100 if data_args.ignore_pad_token_for_loss else tokenizer.pad_token_id\n",
    "    data_collator = DataCollatorForSeq2Seq(\n",
    "        tokenizer,\n",
    "        model=model,\n",
    "        label_pad_token_id=label_pad_token_id,\n",
    "        pad_to_multiple_of=None,\n",
    "        padding=False\n",
    "    )\n",
    "\n",
    "    # Metric\n",
    "    def compute_metrics(eval_preds):\n",
    "        preds, labels = eval_preds\n",
    "        if isinstance(preds, tuple):\n",
    "            preds = preds[0]\n",
    "        decoded_preds = tokenizer.batch_decode(preds, skip_special_tokens=True)\n",
    "        if data_args.ignore_pad_token_for_loss:\n",
    "            # Replace -100 in the labels as we can't decode them.\n",
    "            labels = np.where(labels != -100, labels, tokenizer.pad_token_id)\n",
    "        decoded_labels = tokenizer.batch_decode(labels, skip_special_tokens=True)\n",
    "\n",
    "        score_dict = {\n",
    "            \"rouge-1\": [],\n",
    "            \"rouge-2\": [],\n",
    "            \"rouge-l\": [],\n",
    "            \"bleu-4\": []\n",
    "        }\n",
    "        for pred, label in zip(decoded_preds, decoded_labels):\n",
    "            hypothesis = list(jieba.cut(pred))\n",
    "            reference = list(jieba.cut(label))\n",
    "            rouge = Rouge()\n",
    "            scores = rouge.get_scores(' '.join(hypothesis) , ' '.join(reference))\n",
    "            result = scores[0]\n",
    "            \n",
    "            for k, v in result.items():\n",
    "                score_dict[k].append(round(v[\"f\"] * 100, 4))\n",
    "            bleu_score = sentence_bleu([list(label)], list(pred), smoothing_function=SmoothingFunction().method3)\n",
    "            score_dict[\"bleu-4\"].append(round(bleu_score * 100, 4))\n",
    "\n",
    "        for k, v in score_dict.items():\n",
    "            score_dict[k] = float(np.mean(v))\n",
    "        return score_dict\n",
    "\n",
    "    # Override the decoding parameters of Seq2SeqTrainer\n",
    "    training_args.generation_max_length = (\n",
    "        training_args.generation_max_length\n",
    "        if training_args.generation_max_length is not None\n",
    "        else data_args.val_max_target_length\n",
    "    )\n",
    "    training_args.generation_num_beams = (\n",
    "        data_args.num_beams if data_args.num_beams is not None else training_args.generation_num_beams\n",
    "    )\n",
    "    # Initialize our Trainer\n",
    "    trainer = Seq2SeqTrainer(\n",
    "        model=model,\n",
    "        args=training_args,\n",
    "        train_dataset=train_dataset if training_args.do_train else None,\n",
    "        eval_dataset=eval_dataset if training_args.do_eval else None,\n",
    "        tokenizer=tokenizer,\n",
    "        data_collator=data_collator,\n",
    "        compute_metrics=compute_metrics if training_args.predict_with_generate else None,\n",
    "        save_changed=model_args.pre_seq_len is not None\n",
    "    )\n",
    "\n",
    "    # Training\n",
    "    if training_args.do_train:\n",
    "        checkpoint = None\n",
    "        if training_args.resume_from_checkpoint is not None:\n",
    "            checkpoint = training_args.resume_from_checkpoint\n",
    "        # elif last_checkpoint is not None:\n",
    "        #     checkpoint = last_checkpoint\n",
    "        model.gradient_checkpointing_enable()\n",
    "        model.enable_input_require_grads()\n",
    "        train_result = trainer.train(resume_from_checkpoint=checkpoint)\n",
    "        # trainer.save_model()  # Saves the tokenizer too for easy upload\n",
    "\n",
    "        metrics = train_result.metrics\n",
    "        max_train_samples = (\n",
    "            data_args.max_train_samples if data_args.max_train_samples is not None else len(train_dataset)\n",
    "        )\n",
    "        metrics[\"train_samples\"] = min(max_train_samples, len(train_dataset))\n",
    "\n",
    "        trainer.log_metrics(\"train\", metrics)\n",
    "        trainer.save_metrics(\"train\", metrics)\n",
    "        trainer.save_state()\n",
    "        \n",
    "        print(\"------saving model!-----\")\t\n",
    "        \t\n",
    "        save_model_dir = os.environ['OUTPUT_DIR']\t\n",
    "        tokenizer.save_pretrained(save_model_dir)\t\n",
    "        trainer.save_model(save_model_dir)\t\n",
    "        print(\"save_model_dir : {}\".format(save_model_dir))\t\n",
    "        print(\"------model is saved!-----\")\n",
    "        \n",
    "        print(\"model sync to : {}\".format(os.environ['MODEL_OUTPUT_S3_PATH']))\n",
    "        \n",
    "        #Note: if deepspeed fine tuning ,we just use the rank 0 process to upload the trained model assets to S3 by s5cmd command.\n",
    "        if data_args.train_simple == False:\n",
    "            WORLD_RANK = int(os.environ['RANK'])\n",
    "            print(\"world_rank===\"+str(WORLD_RANK))\n",
    "            if WORLD_RANK == 0:\n",
    "                os.system(\"./s5cmd sync {0} {1}\".format(save_model_dir, os.environ['MODEL_OUTPUT_S3_PATH']))\n",
    "            #Note: we should sync with every ranker and ensure rank 0 uploading the model assets successfully. \n",
    "            torch.distributed.barrier()\n",
    "        else:\n",
    "            os.system(\"./s5cmd sync {0} {1}\".format(save_model_dir, os.environ['MODEL_OUTPUT_S3_PATH']))\n",
    "\n",
    "        \n",
    "\n",
    "    # Evaluation\n",
    "    results = {}\n",
    "    max_seq_length = data_args.max_source_length + data_args.max_target_length + 1\n",
    "    if training_args.do_eval:\n",
    "        logger.info(\"*** Evaluate ***\")\n",
    "        metrics = trainer.evaluate(metric_key_prefix=\"eval\", do_sample=True, top_p=0.7, max_length=max_seq_length, temperature=0.95)\n",
    "        max_eval_samples = data_args.max_eval_samples if data_args.max_eval_samples is not None else len(eval_dataset)\n",
    "        metrics[\"eval_samples\"] = min(max_eval_samples, len(eval_dataset))\n",
    "\n",
    "        trainer.log_metrics(\"eval\", metrics)\n",
    "        trainer.save_metrics(\"eval\", metrics)\n",
    "\n",
    "    if training_args.do_predict:\n",
    "        logger.info(\"*** Predict ***\")\n",
    "        predict_results = trainer.predict(predict_dataset, metric_key_prefix=\"predict\", max_length=max_seq_length, do_sample=True, top_p=0.7, temperature=0.95)\n",
    "        metrics = predict_results.metrics\n",
    "        max_predict_samples = (\n",
    "            data_args.max_predict_samples if data_args.max_predict_samples is not None else len(predict_dataset)\n",
    "        )\n",
    "        metrics[\"predict_samples\"] = min(max_predict_samples, len(predict_dataset))\n",
    "\n",
    "        trainer.log_metrics(\"predict\", metrics)\n",
    "        trainer.save_metrics(\"predict\", metrics)\n",
    "\n",
    "        if trainer.is_world_process_zero():\n",
    "            if training_args.predict_with_generate:\n",
    "                predictions = tokenizer.batch_decode(\n",
    "                    predict_results.predictions, skip_special_tokens=True, clean_up_tokenization_spaces=True\n",
    "                )\n",
    "                predictions = [pred.strip() for pred in predictions]\n",
    "                labels = tokenizer.batch_decode(\n",
    "                    predict_results.label_ids, skip_special_tokens=True, clean_up_tokenization_spaces=True\n",
    "                )\n",
    "                labels = [label.strip() for label in labels]\n",
    "                output_prediction_file = os.path.join(training_args.output_dir, \"generated_predictions.txt\")\n",
    "                with open(output_prediction_file, \"w\", encoding=\"utf-8\") as writer:\n",
    "                    for p, l in zip(predictions, labels):\n",
    "                        res = json.dumps({\"labels\": l, \"predict\": p}, ensure_ascii=False)\n",
    "                        writer.write(f\"{res}\\n\")\n",
    "    return results\n",
    "\n",
    "\n",
    "def _mp_fn(index):\n",
    "    # For xla_spawn (TPUs)\n",
    "    main()\n",
    "\n",
    "\n",
    "if __name__ == \"__main__\":\n",
    "    main()"
   ]
  },
  {
   "cell_type": "markdown",
   "id": "29d0dc95-b7fb-45a7-a0b8-32bb29fb50bf",
   "metadata": {},
   "source": [
    "### 增加 ChatGLM2-6B/ptuning/deepspeed.json 文件\n"
   ]
  },
  {
   "cell_type": "code",
   "execution_count": 42,
   "id": "76f6e541-072a-48d7-a89b-fdee398213cf",
   "metadata": {
    "tags": []
   },
   "outputs": [
    {
     "name": "stdout",
     "output_type": "stream",
     "text": [
      "Overwriting ChatGLM2-6B/ptuning/deepspeed.json\n"
     ]
    }
   ],
   "source": [
    "%%writefile ChatGLM2-6B/ptuning/deepspeed.json\n",
    "{\n",
    "  \"train_micro_batch_size_per_gpu\": \"auto\",\n",
    "  \"zero_allow_untested_optimizer\": true,\n",
    "  \"fp16\": {\n",
    "    \"enabled\": \"auto\",\n",
    "    \"loss_scale\": 0,\n",
    "    \"initial_scale_power\": 16,\n",
    "    \"loss_scale_window\": 1000,\n",
    "    \"hysteresis\": 2,\n",
    "    \"min_loss_scale\": 1\n",
    "  },\n",
    "  \"optimizer\": {\n",
    "    \"type\": \"AdamW\",\n",
    "    \"params\": {\n",
    "      \"lr\": \"auto\",\n",
    "      \"betas\": \"auto\",\n",
    "      \"eps\": \"auto\",\n",
    "      \"weight_decay\": \"auto\"\n",
    "    }\n",
    "  },\n",
    "  \"scheduler\": {\n",
    "    \"type\": \"WarmupLR\",\n",
    "    \"params\": {\n",
    "      \"warmup_min_lr\": \"auto\",\n",
    "      \"warmup_max_lr\": \"auto\",\n",
    "      \"warmup_num_steps\": \"auto\"\n",
    "    }\n",
    "  },\n",
    "  \"zero_optimization\": {\n",
    "    \"stage\": 2,\n",
    "    \"allgather_partitions\": true,\n",
    "    \"allgather_bucket_size\": 5e8,\n",
    "    \"overlap_comm\": false,\n",
    "    \"reduce_scatter\": true,\n",
    "    \"reduce_bucket_size\": 5e8,\n",
    "    \"contiguous_gradients\" : true\n",
    "  }\n",
    "}"
   ]
  },
  {
   "cell_type": "markdown",
   "id": "5feb7b01-a789-45ab-9214-4d5dd32593bd",
   "metadata": {},
   "source": [
    "### 增加 ChatGLM2-6B/ptuning/sm_fulltuning_train.sh 文件\n",
    "官方 LR=1e-4  \n",
    "CUDA_VISIBLE_DEVICES 为GPU参数  \n",
    "参考以下文件：  \n",
    "CChatGLM2-6B/ptuning/ds_train_finetune.sh"
   ]
  },
  {
   "cell_type": "code",
   "execution_count": 43,
   "id": "3666cd75-cdbf-4572-b5a8-85c9ce156ba7",
   "metadata": {
    "tags": []
   },
   "outputs": [
    {
     "name": "stdout",
     "output_type": "stream",
     "text": [
      "Overwriting ChatGLM2-6B/ptuning/sm_fulltuning_train.sh\n"
     ]
    }
   ],
   "source": [
    "%%writefile ChatGLM2-6B/ptuning/sm_fulltuning_train.sh\n",
    "\n",
    "LR=1e-4\n",
    "MASTER_PORT=\"23456\"\n",
    "\n",
    "deepspeed --num_gpus=$NUM_GPUS  --master_port $MASTER_PORT main_tuning.py \\\n",
    "    --deepspeed deepspeed.json \\\n",
    "    --do_train \\\n",
    "    --train_file $TRAIN_DATASET \\\n",
    "    --validation_file $TEST_DATASET \\\n",
    "    --prompt_column ${PROMPT_COLUMN} \\\n",
    "    --response_column ${RESPONSE_COLUMN} \\\n",
    "    --overwrite_cache \\\n",
    "    --model_name_or_path ${MODEL_NAME_OR_PATH}   \\\n",
    "    --output_dir ${OUTPUT_DIR} \\\n",
    "    --model_output_s3_path ${MODEL_OUTPUT_S3_PATH} \\\n",
    "    --overwrite_output_dir \\\n",
    "    --max_source_length 64 \\\n",
    "    --max_target_length 64 \\\n",
    "    --per_device_train_batch_size 1 \\\n",
    "    --per_device_eval_batch_size 4 \\\n",
    "    --gradient_accumulation_steps 1 \\\n",
    "    --predict_with_generate \\\n",
    "    --max_steps ${TRAIN_STEPS} \\\n",
    "    --logging_steps 10 \\\n",
    "    --save_steps ${TRAIN_STEPS} \\\n",
    "    --learning_rate $LR \\\n",
    "    --fp16"
   ]
  },
  {
   "cell_type": "markdown",
   "id": "511a51f1-2b91-44cd-bbbc-e85f3b33b86c",
   "metadata": {},
   "source": [
    "### 增加 sm_fulltune_train.py 文件\n",
    "此文件为启动训练的 Entry Point"
   ]
  },
  {
   "cell_type": "code",
   "execution_count": 44,
   "id": "ee01918e-50b5-4738-9059-8c6375de5619",
   "metadata": {
    "tags": []
   },
   "outputs": [
    {
     "name": "stdout",
     "output_type": "stream",
     "text": [
      "Overwriting ChatGLM2-6B/ptuning/sm_fulltune_train.py\n"
     ]
    }
   ],
   "source": [
    "%%writefile ChatGLM2-6B/ptuning/sm_fulltune_train.py\n",
    "\n",
    "import os\n",
    "\n",
    "if __name__ == \"__main__\":\n",
    "    os.environ['PYTORCH_CUDA_ALLOC_CONF'] = str(os.environ['PYTORCH_CUDA_ALLOC_CONF'])\n",
    "    os.environ['LD_LIBRARY_PATH'] = str(os.environ['LD_LIBRARY_PATH'])\n",
    "    os.environ['TRAIN_DATASET'] = str(os.environ['TRAIN_DATASET'])\n",
    "    os.environ['TEST_DATASET'] = str(os.environ['TEST_DATASET'])\n",
    "    os.environ['PROMPT_COLUMN'] = str(os.environ['PROMPT_COLUMN'])\n",
    "    os.environ['RESPONSE_COLUMN'] = str(os.environ['RESPONSE_COLUMN'])\n",
    "    os.environ['MODEL_NAME_OR_PATH'] = str(os.environ['MODEL_NAME_OR_PATH'])\n",
    "    os.environ['OUTPUT_DIR'] = str(os.environ['OUTPUT_DIR'])\n",
    "    os.environ['MODEL_OUTPUT_S3_PATH'] = str(os.environ['MODEL_OUTPUT_S3_PATH'])\n",
    "\n",
    "    # os.system(\"chmod +x ./s5cmd\")\n",
    "    os.system(\"/bin/bash sm_fulltuning_train.sh\")"
   ]
  },
  {
   "cell_type": "markdown",
   "id": "f30c3df5-341d-4fe3-9b1c-6b7acbf3d39b",
   "metadata": {
    "tags": []
   },
   "source": [
    "### 增加 ChatGLM2-6B/ptuning/requirements.txt 文件"
   ]
  },
  {
   "cell_type": "code",
   "execution_count": 21,
   "id": "bc67f35a-28d4-4f38-bb65-196b188feda4",
   "metadata": {
    "tags": []
   },
   "outputs": [
    {
     "name": "stdout",
     "output_type": "stream",
     "text": [
      "Overwriting ChatGLM2-6B/ptuning/requirements.txt\n"
     ]
    }
   ],
   "source": [
    "%%writefile ChatGLM2-6B/ptuning/requirements.txt\n",
    "\n",
    "protobuf\n",
    "#git+https://github.com/huggingface/transformers.git@68d640f7c368bcaaaecfc678f11908ebbd3d6176\n",
    "transformers==4.28.1\n",
    "cpm_kernels\n",
    "#torch>=2.0\n",
    "gradio\n",
    "mdtex2html\n",
    "sentencepiece\n",
    "accelerate>=0.20.1\n",
    "sse-starlette\n",
    "streamlit>=1.24.0\n",
    "datasets\n",
    "huggingface\n",
    "jieba\n",
    "rouge_chinese\n",
    "nltk\n",
    "deepspeed==0.9.5"
   ]
  },
  {
   "cell_type": "markdown",
   "id": "8b5548d6-dd07-4044-b86a-8e48eba67cfa",
   "metadata": {
    "tags": []
   },
   "source": [
    "## 3.2 获取Runtime资源配置(未执行 1.4 可执行这里)"
   ]
  },
  {
   "cell_type": "code",
   "execution_count": 22,
   "id": "0f49d710-968f-433f-ae08-f1b0c247a75b",
   "metadata": {
    "tags": []
   },
   "outputs": [
    {
     "name": "stderr",
     "output_type": "stream",
     "text": [
      "INFO:botocore.credentials:Found credentials from IAM Role: BaseNotebookInstanceEc2InstanceRole\n",
      "INFO:botocore.credentials:Found credentials from IAM Role: BaseNotebookInstanceEc2InstanceRole\n"
     ]
    },
    {
     "name": "stdout",
     "output_type": "stream",
     "text": [
      "Sagemaker Execution Role:\n",
      "arn:aws:iam::687912291502:role/service-role/AmazonSageMaker-ExecutionRole-20211013T113123\n",
      "Sagemaker Default Bucket:\n",
      "sagemaker-us-west-2-687912291502\n",
      "Sagemaker Boto Account:\n",
      "687912291502\n",
      "Sagemaker Boto Region:\n",
      "us-west-2\n"
     ]
    }
   ],
   "source": [
    "import boto3\n",
    "import sagemaker\n",
    "from sagemaker import get_execution_role\n",
    "\n",
    "sess = sagemaker.Session()\n",
    "role = get_execution_role()\n",
    "sagemaker_default_bucket = sess.default_bucket()\n",
    "\n",
    "account = sess.boto_session.client(\"sts\").get_caller_identity()[\"Account\"]\n",
    "region = sess.boto_session.region_name\n",
    "\n",
    "print(\"Sagemaker Execution Role:\")\n",
    "print(role)\n",
    "print(\"Sagemaker Default Bucket:\")\n",
    "print(sagemaker_default_bucket)\n",
    "print(\"Sagemaker Boto Account:\")\n",
    "print(account)\n",
    "print(\"Sagemaker Boto Region:\")\n",
    "print(region)"
   ]
  },
  {
   "cell_type": "markdown",
   "id": "37dfe385-35fa-4b47-8a79-3984cf4e51f4",
   "metadata": {
    "jp-MarkdownHeadingCollapsed": true,
    "tags": []
   },
   "source": [
    "## 3.2 Full-Tuning 训练\n",
    "### 定义微调参数"
   ]
  },
  {
   "cell_type": "code",
   "execution_count": 23,
   "id": "3f14956c-693f-4544-b930-f25b9efa52b0",
   "metadata": {
    "tags": []
   },
   "outputs": [],
   "source": [
    "# Define Training Job Name\n",
    "import time\n",
    "from sagemaker.huggingface import HuggingFace\n",
    "\n",
    "job_name = f'huggingface-chatglm-finetune-fulltuning-{time.strftime(\"%Y-%m-%d-%H-%M-%S\", time.localtime())}'\n",
    "\n",
    "instance_type  = \"ml.p4d.24xlarge\"\n",
    "instance_count = 1\n",
    "processes_per_host = 8\n",
    "\n",
    "# 基础模型存放地址\n",
    "model_name_or_path = 's3://{}/llm/models/chatglm2/original-6B/'.format(sagemaker_default_bucket)\n",
    "\n",
    "# 微调模型输出地址\n",
    "output_dir         = '/opt/ml/model/adgen-chatglm2-6b-ft'\n",
    "model_s3_path      = 's3://{}/llm/models/chatglm2/finetune-fulltuning-adgen/'.format(sagemaker_default_bucket)\n",
    "\n",
    "# 模型环境变量设置\n",
    "environment = {\n",
    "    'PYTORCH_CUDA_ALLOC_CONF': 'max_split_size_mb:32',\n",
    "    'NUM_GPUS'               : str(processes_per_host),\n",
    "    'TRAIN_DATASET'          : '/opt/ml/input/data/KuaFuTrainData/train.json',\n",
    "    'TEST_DATASET'           : '/opt/ml/input/data/KuaFuTrainData/dev.json',\n",
    "    'PROMPT_COLUMN'          : 'content',\n",
    "    'RESPONSE_COLUMN'        : 'summary',\n",
    "    'MODEL_NAME_OR_PATH'     : model_name_or_path,\n",
    "    'OUTPUT_DIR'             : output_dir,\n",
    "    'MODEL_OUTPUT_S3_PATH'   : model_s3_path,\n",
    "    'TRAIN_STEPS'            : '50'\n",
    "}\n",
    "\n",
    "inputs = {\n",
    "   'KuaFuTrainData': f\"s3://{sagemaker_default_bucket}/llm/datasets/chatglm2/KuaFuTrainData/\"\n",
    "}"
   ]
  },
  {
   "cell_type": "code",
   "execution_count": 24,
   "id": "9dc327f8-7bf6-499b-a0c1-cbf6ab90e994",
   "metadata": {
    "tags": []
   },
   "outputs": [
    {
     "data": {
      "text/plain": [
       "{'PYTORCH_CUDA_ALLOC_CONF': 'max_split_size_mb:32',\n",
       " 'NUM_GPUS': '8',\n",
       " 'TRAIN_DATASET': '/opt/ml/input/data/KuaFuTrainData/train.json',\n",
       " 'TEST_DATASET': '/opt/ml/input/data/KuaFuTrainData/dev.json',\n",
       " 'PROMPT_COLUMN': 'content',\n",
       " 'RESPONSE_COLUMN': 'summary',\n",
       " 'MODEL_NAME_OR_PATH': 's3://sagemaker-us-west-2-687912291502/llm/models/chatglm2/original-6B/',\n",
       " 'OUTPUT_DIR': '/opt/ml/model/adgen-chatglm2-6b-ft',\n",
       " 'MODEL_OUTPUT_S3_PATH': 's3://sagemaker-us-west-2-687912291502/llm/models/chatglm2/finetune-fulltuning-adgen/',\n",
       " 'TRAIN_STEPS': '50'}"
      ]
     },
     "execution_count": 24,
     "metadata": {},
     "output_type": "execute_result"
    }
   ],
   "source": [
    "environment"
   ]
  },
  {
   "cell_type": "markdown",
   "id": "18d79de1-2307-4824-9b7f-7734ce46afb2",
   "metadata": {
    "tags": []
   },
   "source": [
    "### 启动微调训练"
   ]
  },
  {
   "cell_type": "code",
   "execution_count": 27,
   "id": "aaa9eab7-005d-454c-b88b-8996d67d7439",
   "metadata": {
    "tags": []
   },
   "outputs": [
    {
     "name": "stderr",
     "output_type": "stream",
     "text": [
      "INFO:botocore.credentials:Found credentials from IAM Role: BaseNotebookInstanceEc2InstanceRole\n"
     ]
    }
   ],
   "source": [
    "# create the Estimator\n",
    "huggingface_estimator = HuggingFace(\n",
    "    entry_point          = 'sm_fulltune_train.py',\n",
    "    source_dir           = './ChatGLM2-6B/ptuning',\n",
    "    instance_type        = instance_type,\n",
    "    instance_count       = instance_count,\n",
    "    base_job_name        = job_name,\n",
    "    role                 = role,\n",
    "    script_mode          = True,\n",
    "    transformers_version = '4.28',\n",
    "    pytorch_version      = '2.0',\n",
    "    py_version           = 'py310',\n",
    "    environment          = environment\n",
    ")"
   ]
  },
  {
   "cell_type": "code",
   "execution_count": 28,
   "id": "632dcb56-2e12-4b06-aad6-ab7560eb13c7",
   "metadata": {
    "collapsed": true,
    "jupyter": {
     "outputs_hidden": true
    },
    "tags": []
   },
   "outputs": [
    {
     "name": "stderr",
     "output_type": "stream",
     "text": [
      "INFO:sagemaker.image_uris:image_uri is not presented, retrieving image_uri based on instance_type, framework etc.\n",
      "INFO:sagemaker:Creating training-job with name: huggingface-chatglm-finetune-fulltuning-2023-07-28-06-08-10-856\n"
     ]
    },
    {
     "name": "stdout",
     "output_type": "stream",
     "text": [
      "Using provided s3_resource\n",
      "2023-07-28 06:08:13 Starting - Starting the training job......\n",
      "2023-07-28 06:08:52 Starting - Preparing the instances for training.....................\n",
      "2023-07-28 06:12:38 Downloading - Downloading input data...\n",
      "2023-07-28 06:12:54 Training - Downloading the training image..............................\n",
      "2023-07-28 06:17:55 Training - Training image download completed. Training in progress.......\u001b[34mbash: cannot set terminal process group (-1): Inappropriate ioctl for device\u001b[0m\n",
      "\u001b[34mbash: no job control in this shell\u001b[0m\n",
      "\u001b[34m2023-07-28 06:19:07,782 sagemaker-training-toolkit INFO     Imported framework sagemaker_pytorch_container.training\u001b[0m\n",
      "\u001b[34m2023-07-28 06:19:07,836 sagemaker-training-toolkit INFO     No Neurons detected (normal if no neurons installed)\u001b[0m\n",
      "\u001b[34m2023-07-28 06:19:07,843 sagemaker_pytorch_container.training INFO     Block until all host DNS lookups succeed.\u001b[0m\n",
      "\u001b[34m2023-07-28 06:19:07,845 sagemaker_pytorch_container.training INFO     Invoking user training script.\u001b[0m\n",
      "\u001b[34m2023-07-28 06:19:09,473 sagemaker-training-toolkit INFO     Installing dependencies from requirements.txt:\u001b[0m\n",
      "\u001b[34m/opt/conda/bin/python3.10 -m pip install -r requirements.txt\u001b[0m\n",
      "\u001b[34mRequirement already satisfied: protobuf in /opt/conda/lib/python3.10/site-packages (from -r requirements.txt (line 2)) (3.20.2)\u001b[0m\n",
      "\u001b[34mERROR: Could not find a version that satisfies the requirement transformers==4.28.2 (from versions: 0.1, 2.0.0, 2.1.0, 2.1.1, 2.2.0, 2.2.1, 2.2.2, 2.3.0, 2.4.0, 2.4.1, 2.5.0, 2.5.1, 2.6.0, 2.7.0, 2.8.0, 2.9.0, 2.9.1, 2.10.0, 2.11.0, 3.0.0, 3.0.1, 3.0.2, 3.1.0, 3.2.0, 3.3.0, 3.3.1, 3.4.0, 3.5.0, 3.5.1, 4.0.0rc1, 4.0.0, 4.0.1, 4.1.0, 4.1.1, 4.2.0, 4.2.1, 4.2.2, 4.3.0rc1, 4.3.0, 4.3.1, 4.3.2, 4.3.3, 4.4.0, 4.4.1, 4.4.2, 4.5.0, 4.5.1, 4.6.0, 4.6.1, 4.7.0, 4.8.0, 4.8.1, 4.8.2, 4.9.0, 4.9.1, 4.9.2, 4.10.0, 4.10.1, 4.10.2, 4.10.3, 4.11.0, 4.11.1, 4.11.2, 4.11.3, 4.12.0, 4.12.1, 4.12.2, 4.12.3, 4.12.4, 4.12.5, 4.13.0, 4.14.0, 4.14.1, 4.15.0, 4.16.0, 4.16.1, 4.16.2, 4.17.0, 4.18.0, 4.19.0, 4.19.1, 4.19.2, 4.19.3, 4.19.4, 4.20.0, 4.20.1, 4.21.0, 4.21.1, 4.21.2, 4.21.3, 4.22.0, 4.22.1, 4.22.2, 4.23.0, 4.23.1, 4.24.0, 4.25.0, 4.25.1, 4.26.0, 4.26.1, 4.27.0, 4.27.1, 4.27.2, 4.27.3, 4.27.4, 4.28.0, 4.28.1, 4.29.0, 4.29.1, 4.29.2, 4.30.0, 4.30.1, 4.30.2, 4.31.0)\u001b[0m\n",
      "\u001b[34mERROR: No matching distribution found for transformers==4.28.2\u001b[0m\n",
      "\u001b[34m[notice] A new release of pip is available: 23.1.2 -> 23.2.1\u001b[0m\n",
      "\u001b[34m[notice] To update, run: pip install --upgrade pip\u001b[0m\n",
      "\u001b[34m2023-07-28 06:19:10,054 sagemaker-training-toolkit INFO     Waiting for the process to finish and give a return code.\u001b[0m\n",
      "\u001b[34m2023-07-28 06:19:10,054 sagemaker-training-toolkit INFO     Done waiting for a return code. Received 1 from exiting process.\u001b[0m\n",
      "\u001b[34m2023-07-28 06:19:10,054 sagemaker-training-toolkit ERROR    Reporting training FAILURE\u001b[0m\n",
      "\u001b[34m2023-07-28 06:19:10,055 sagemaker-training-toolkit ERROR    InstallRequirementsError:\u001b[0m\n",
      "\u001b[34mExitCode 1\u001b[0m\n",
      "\u001b[34mErrorMessage \"\"\u001b[0m\n",
      "\u001b[34mCommand \"/opt/conda/bin/python3.10 -m pip install -r requirements.txt\"\u001b[0m\n",
      "\u001b[34m2023-07-28 06:19:10,055 sagemaker-training-toolkit ERROR    Encountered exit_code 1\u001b[0m\n",
      "\n",
      "2023-07-28 06:19:27 Uploading - Uploading generated training model\n",
      "2023-07-28 06:19:27 Failed - Training job failed\n"
     ]
    },
    {
     "ename": "UnexpectedStatusException",
     "evalue": "Error for Training job huggingface-chatglm-finetune-fulltuning-2023-07-28-06-08-10-856: Failed. Reason: AlgorithmError: InstallRequirementsError:\nExitCode 1\nErrorMessage \"\"\nCommand \"/opt/conda/bin/python3.10 -m pip install -r requirements.txt\", exit code: 1",
     "output_type": "error",
     "traceback": [
      "\u001b[0;31m---------------------------------------------------------------------------\u001b[0m",
      "\u001b[0;31mUnexpectedStatusException\u001b[0m                 Traceback (most recent call last)",
      "\u001b[0;32m/tmp/ipykernel_30357/1113167994.py\u001b[0m in \u001b[0;36m<cell line: 1>\u001b[0;34m()\u001b[0m\n\u001b[0;32m----> 1\u001b[0;31m \u001b[0mhuggingface_estimator\u001b[0m\u001b[0;34m.\u001b[0m\u001b[0mfit\u001b[0m\u001b[0;34m(\u001b[0m\u001b[0minputs\u001b[0m\u001b[0;34m=\u001b[0m\u001b[0minputs\u001b[0m\u001b[0;34m)\u001b[0m\u001b[0;34m\u001b[0m\u001b[0;34m\u001b[0m\u001b[0m\n\u001b[0m",
      "\u001b[0;32m~/anaconda3/envs/pytorch_p39/lib/python3.9/site-packages/sagemaker/workflow/pipeline_context.py\u001b[0m in \u001b[0;36mwrapper\u001b[0;34m(*args, **kwargs)\u001b[0m\n\u001b[1;32m    309\u001b[0m             \u001b[0;32mreturn\u001b[0m \u001b[0m_StepArguments\u001b[0m\u001b[0;34m(\u001b[0m\u001b[0mretrieve_caller_name\u001b[0m\u001b[0;34m(\u001b[0m\u001b[0mself_instance\u001b[0m\u001b[0;34m)\u001b[0m\u001b[0;34m,\u001b[0m \u001b[0mrun_func\u001b[0m\u001b[0;34m,\u001b[0m \u001b[0;34m*\u001b[0m\u001b[0margs\u001b[0m\u001b[0;34m,\u001b[0m \u001b[0;34m**\u001b[0m\u001b[0mkwargs\u001b[0m\u001b[0;34m)\u001b[0m\u001b[0;34m\u001b[0m\u001b[0;34m\u001b[0m\u001b[0m\n\u001b[1;32m    310\u001b[0m \u001b[0;34m\u001b[0m\u001b[0m\n\u001b[0;32m--> 311\u001b[0;31m         \u001b[0;32mreturn\u001b[0m \u001b[0mrun_func\u001b[0m\u001b[0;34m(\u001b[0m\u001b[0;34m*\u001b[0m\u001b[0margs\u001b[0m\u001b[0;34m,\u001b[0m \u001b[0;34m**\u001b[0m\u001b[0mkwargs\u001b[0m\u001b[0;34m)\u001b[0m\u001b[0;34m\u001b[0m\u001b[0;34m\u001b[0m\u001b[0m\n\u001b[0m\u001b[1;32m    312\u001b[0m \u001b[0;34m\u001b[0m\u001b[0m\n\u001b[1;32m    313\u001b[0m     \u001b[0;32mreturn\u001b[0m \u001b[0mwrapper\u001b[0m\u001b[0;34m\u001b[0m\u001b[0;34m\u001b[0m\u001b[0m\n",
      "\u001b[0;32m~/anaconda3/envs/pytorch_p39/lib/python3.9/site-packages/sagemaker/estimator.py\u001b[0m in \u001b[0;36mfit\u001b[0;34m(self, inputs, wait, logs, job_name, experiment_config)\u001b[0m\n\u001b[1;32m   1290\u001b[0m         \u001b[0mself\u001b[0m\u001b[0;34m.\u001b[0m\u001b[0mjobs\u001b[0m\u001b[0;34m.\u001b[0m\u001b[0mappend\u001b[0m\u001b[0;34m(\u001b[0m\u001b[0mself\u001b[0m\u001b[0;34m.\u001b[0m\u001b[0mlatest_training_job\u001b[0m\u001b[0;34m)\u001b[0m\u001b[0;34m\u001b[0m\u001b[0;34m\u001b[0m\u001b[0m\n\u001b[1;32m   1291\u001b[0m         \u001b[0;32mif\u001b[0m \u001b[0mwait\u001b[0m\u001b[0;34m:\u001b[0m\u001b[0;34m\u001b[0m\u001b[0;34m\u001b[0m\u001b[0m\n\u001b[0;32m-> 1292\u001b[0;31m             \u001b[0mself\u001b[0m\u001b[0;34m.\u001b[0m\u001b[0mlatest_training_job\u001b[0m\u001b[0;34m.\u001b[0m\u001b[0mwait\u001b[0m\u001b[0;34m(\u001b[0m\u001b[0mlogs\u001b[0m\u001b[0;34m=\u001b[0m\u001b[0mlogs\u001b[0m\u001b[0;34m)\u001b[0m\u001b[0;34m\u001b[0m\u001b[0;34m\u001b[0m\u001b[0m\n\u001b[0m\u001b[1;32m   1293\u001b[0m \u001b[0;34m\u001b[0m\u001b[0m\n\u001b[1;32m   1294\u001b[0m     \u001b[0;32mdef\u001b[0m \u001b[0m_compilation_job_name\u001b[0m\u001b[0;34m(\u001b[0m\u001b[0mself\u001b[0m\u001b[0;34m)\u001b[0m\u001b[0;34m:\u001b[0m\u001b[0;34m\u001b[0m\u001b[0;34m\u001b[0m\u001b[0m\n",
      "\u001b[0;32m~/anaconda3/envs/pytorch_p39/lib/python3.9/site-packages/sagemaker/estimator.py\u001b[0m in \u001b[0;36mwait\u001b[0;34m(self, logs)\u001b[0m\n\u001b[1;32m   2452\u001b[0m         \u001b[0;31m# If logs are requested, call logs_for_jobs.\u001b[0m\u001b[0;34m\u001b[0m\u001b[0;34m\u001b[0m\u001b[0m\n\u001b[1;32m   2453\u001b[0m         \u001b[0;32mif\u001b[0m \u001b[0mlogs\u001b[0m \u001b[0;34m!=\u001b[0m \u001b[0;34m\"None\"\u001b[0m\u001b[0;34m:\u001b[0m\u001b[0;34m\u001b[0m\u001b[0;34m\u001b[0m\u001b[0m\n\u001b[0;32m-> 2454\u001b[0;31m             \u001b[0mself\u001b[0m\u001b[0;34m.\u001b[0m\u001b[0msagemaker_session\u001b[0m\u001b[0;34m.\u001b[0m\u001b[0mlogs_for_job\u001b[0m\u001b[0;34m(\u001b[0m\u001b[0mself\u001b[0m\u001b[0;34m.\u001b[0m\u001b[0mjob_name\u001b[0m\u001b[0;34m,\u001b[0m \u001b[0mwait\u001b[0m\u001b[0;34m=\u001b[0m\u001b[0;32mTrue\u001b[0m\u001b[0;34m,\u001b[0m \u001b[0mlog_type\u001b[0m\u001b[0;34m=\u001b[0m\u001b[0mlogs\u001b[0m\u001b[0;34m)\u001b[0m\u001b[0;34m\u001b[0m\u001b[0;34m\u001b[0m\u001b[0m\n\u001b[0m\u001b[1;32m   2455\u001b[0m         \u001b[0;32melse\u001b[0m\u001b[0;34m:\u001b[0m\u001b[0;34m\u001b[0m\u001b[0;34m\u001b[0m\u001b[0m\n\u001b[1;32m   2456\u001b[0m             \u001b[0mself\u001b[0m\u001b[0;34m.\u001b[0m\u001b[0msagemaker_session\u001b[0m\u001b[0;34m.\u001b[0m\u001b[0mwait_for_job\u001b[0m\u001b[0;34m(\u001b[0m\u001b[0mself\u001b[0m\u001b[0;34m.\u001b[0m\u001b[0mjob_name\u001b[0m\u001b[0;34m)\u001b[0m\u001b[0;34m\u001b[0m\u001b[0;34m\u001b[0m\u001b[0m\n",
      "\u001b[0;32m~/anaconda3/envs/pytorch_p39/lib/python3.9/site-packages/sagemaker/session.py\u001b[0m in \u001b[0;36mlogs_for_job\u001b[0;34m(self, job_name, wait, poll, log_type, timeout)\u001b[0m\n\u001b[1;32m   4812\u001b[0m             \u001b[0mexceptions\u001b[0m\u001b[0;34m.\u001b[0m\u001b[0mUnexpectedStatusException\u001b[0m\u001b[0;34m:\u001b[0m \u001b[0mIf\u001b[0m \u001b[0mwaiting\u001b[0m \u001b[0;32mand\u001b[0m \u001b[0mthe\u001b[0m \u001b[0mtraining\u001b[0m \u001b[0mjob\u001b[0m \u001b[0mfails\u001b[0m\u001b[0;34m.\u001b[0m\u001b[0;34m\u001b[0m\u001b[0;34m\u001b[0m\u001b[0m\n\u001b[1;32m   4813\u001b[0m         \"\"\"\n\u001b[0;32m-> 4814\u001b[0;31m         \u001b[0m_logs_for_job\u001b[0m\u001b[0;34m(\u001b[0m\u001b[0mself\u001b[0m\u001b[0;34m.\u001b[0m\u001b[0mboto_session\u001b[0m\u001b[0;34m,\u001b[0m \u001b[0mjob_name\u001b[0m\u001b[0;34m,\u001b[0m \u001b[0mwait\u001b[0m\u001b[0;34m,\u001b[0m \u001b[0mpoll\u001b[0m\u001b[0;34m,\u001b[0m \u001b[0mlog_type\u001b[0m\u001b[0;34m,\u001b[0m \u001b[0mtimeout\u001b[0m\u001b[0;34m)\u001b[0m\u001b[0;34m\u001b[0m\u001b[0;34m\u001b[0m\u001b[0m\n\u001b[0m\u001b[1;32m   4815\u001b[0m \u001b[0;34m\u001b[0m\u001b[0m\n\u001b[1;32m   4816\u001b[0m     \u001b[0;32mdef\u001b[0m \u001b[0mlogs_for_processing_job\u001b[0m\u001b[0;34m(\u001b[0m\u001b[0mself\u001b[0m\u001b[0;34m,\u001b[0m \u001b[0mjob_name\u001b[0m\u001b[0;34m,\u001b[0m \u001b[0mwait\u001b[0m\u001b[0;34m=\u001b[0m\u001b[0;32mFalse\u001b[0m\u001b[0;34m,\u001b[0m \u001b[0mpoll\u001b[0m\u001b[0;34m=\u001b[0m\u001b[0;36m10\u001b[0m\u001b[0;34m)\u001b[0m\u001b[0;34m:\u001b[0m\u001b[0;34m\u001b[0m\u001b[0;34m\u001b[0m\u001b[0m\n",
      "\u001b[0;32m~/anaconda3/envs/pytorch_p39/lib/python3.9/site-packages/sagemaker/session.py\u001b[0m in \u001b[0;36m_logs_for_job\u001b[0;34m(boto_session, job_name, wait, poll, log_type, timeout)\u001b[0m\n\u001b[1;32m   6681\u001b[0m \u001b[0;34m\u001b[0m\u001b[0m\n\u001b[1;32m   6682\u001b[0m     \u001b[0;32mif\u001b[0m \u001b[0mwait\u001b[0m\u001b[0;34m:\u001b[0m\u001b[0;34m\u001b[0m\u001b[0;34m\u001b[0m\u001b[0m\n\u001b[0;32m-> 6683\u001b[0;31m         \u001b[0m_check_job_status\u001b[0m\u001b[0;34m(\u001b[0m\u001b[0mjob_name\u001b[0m\u001b[0;34m,\u001b[0m \u001b[0mdescription\u001b[0m\u001b[0;34m,\u001b[0m \u001b[0;34m\"TrainingJobStatus\"\u001b[0m\u001b[0;34m)\u001b[0m\u001b[0;34m\u001b[0m\u001b[0;34m\u001b[0m\u001b[0m\n\u001b[0m\u001b[1;32m   6684\u001b[0m         \u001b[0;32mif\u001b[0m \u001b[0mdot\u001b[0m\u001b[0;34m:\u001b[0m\u001b[0;34m\u001b[0m\u001b[0;34m\u001b[0m\u001b[0m\n\u001b[1;32m   6685\u001b[0m             \u001b[0mprint\u001b[0m\u001b[0;34m(\u001b[0m\u001b[0;34m)\u001b[0m\u001b[0;34m\u001b[0m\u001b[0;34m\u001b[0m\u001b[0m\n",
      "\u001b[0;32m~/anaconda3/envs/pytorch_p39/lib/python3.9/site-packages/sagemaker/session.py\u001b[0m in \u001b[0;36m_check_job_status\u001b[0;34m(job, desc, status_key_name)\u001b[0m\n\u001b[1;32m   6734\u001b[0m                 \u001b[0mactual_status\u001b[0m\u001b[0;34m=\u001b[0m\u001b[0mstatus\u001b[0m\u001b[0;34m,\u001b[0m\u001b[0;34m\u001b[0m\u001b[0;34m\u001b[0m\u001b[0m\n\u001b[1;32m   6735\u001b[0m             )\n\u001b[0;32m-> 6736\u001b[0;31m         raise exceptions.UnexpectedStatusException(\n\u001b[0m\u001b[1;32m   6737\u001b[0m             \u001b[0mmessage\u001b[0m\u001b[0;34m=\u001b[0m\u001b[0mmessage\u001b[0m\u001b[0;34m,\u001b[0m\u001b[0;34m\u001b[0m\u001b[0;34m\u001b[0m\u001b[0m\n\u001b[1;32m   6738\u001b[0m             \u001b[0mallowed_statuses\u001b[0m\u001b[0;34m=\u001b[0m\u001b[0;34m[\u001b[0m\u001b[0;34m\"Completed\"\u001b[0m\u001b[0;34m,\u001b[0m \u001b[0;34m\"Stopped\"\u001b[0m\u001b[0;34m]\u001b[0m\u001b[0;34m,\u001b[0m\u001b[0;34m\u001b[0m\u001b[0;34m\u001b[0m\u001b[0m\n",
      "\u001b[0;31mUnexpectedStatusException\u001b[0m: Error for Training job huggingface-chatglm-finetune-fulltuning-2023-07-28-06-08-10-856: Failed. Reason: AlgorithmError: InstallRequirementsError:\nExitCode 1\nErrorMessage \"\"\nCommand \"/opt/conda/bin/python3.10 -m pip install -r requirements.txt\", exit code: 1"
     ]
    }
   ],
   "source": [
    "huggingface_estimator.fit(inputs=inputs)"
   ]
  },
  {
   "cell_type": "markdown",
   "id": "0b48c6d6-b465-4cd7-bbc7-3ca3d2951dbb",
   "metadata": {
    "tags": []
   },
   "source": [
    "# 4. 模型部署"
   ]
  },
  {
   "cell_type": "markdown",
   "id": "fc7b753e-a6b8-4bba-bff7-b094e1fce67c",
   "metadata": {
    "jp-MarkdownHeadingCollapsed": true,
    "tags": []
   },
   "source": [
    "## 4.1 获取Runtime资源配置"
   ]
  },
  {
   "cell_type": "code",
   "execution_count": null,
   "id": "d74b206e-6cd0-4b0c-8a91-0d924699f5c0",
   "metadata": {
    "tags": []
   },
   "outputs": [],
   "source": [
    "import boto3\n",
    "import sagemaker\n",
    "from sagemaker import get_execution_role\n",
    "\n",
    "sess                     = sagemaker.Session()\n",
    "role                     = get_execution_role()\n",
    "sagemaker_default_bucket = sess.default_bucket()\n",
    "\n",
    "account                  = sess.boto_session.client(\"sts\").get_caller_identity()[\"Account\"]\n",
    "region                   = sess.boto_session.region_name\n",
    "\n",
    "print(\"Sagemaker Execution Role:\")\n",
    "print(role)\n",
    "print(\"Sagemaker Default Bucket:\")\n",
    "print(sagemaker_default_bucket)\n",
    "print(\"Sagemaker Boto Account:\")\n",
    "print(account)\n",
    "print(\"Sagemaker Boto Region:\")\n",
    "print(region)"
   ]
  },
  {
   "cell_type": "markdown",
   "id": "308a1edc-5090-4570-b3a6-0691b6304f50",
   "metadata": {
    "jp-MarkdownHeadingCollapsed": true,
    "tags": []
   },
   "source": [
    "## 4.2 准备Dummy模型"
   ]
  },
  {
   "cell_type": "code",
   "execution_count": null,
   "id": "5da1ff4d-cc76-42fc-a711-8f822aed6a75",
   "metadata": {
    "tags": []
   },
   "outputs": [],
   "source": [
    "!touch dummy\n",
    "!tar czvf model.tar.gz dummy\n",
    "assets_dir = 's3://{0}/{1}/assets/'.format(sagemaker_default_bucket, 'chatglm2')\n",
    "model_data = 's3://{0}/{1}/assets/model.tar.gz'.format(sagemaker_default_bucket, 'chatglm2')\n",
    "!aws s3 cp model.tar.gz $assets_dir\n",
    "!rm -f dummy model.tar.gz"
   ]
  },
  {
   "cell_type": "markdown",
   "id": "c5d844ef-4b13-4ba9-add1-26d0c1913459",
   "metadata": {
    "jp-MarkdownHeadingCollapsed": true,
    "tags": []
   },
   "source": [
    "## 4.3 配置模型参数"
   ]
  },
  {
   "cell_type": "code",
   "execution_count": null,
   "id": "00d2c840-4ed1-4874-84c4-6c0309f3c552",
   "metadata": {
    "tags": []
   },
   "outputs": [],
   "source": [
    "model_name                  = None\n",
    "entry_point                 = 'chatglm2-inference-finetune.py'\n",
    "framework_version           = '2.0'\n",
    "py_version                  = 'py310'\n",
    "base_model_name_or_path     = 's3://{}/llm/models/chatglm2/original-6B/'.format(sagemaker_default_bucket)\n",
    "finetune_model_name_or_path = 's3://{}/llm/models/chatglm2/finetune-ptuning-adgen/adgen-chatglm2-6b-ft/checkpoint-1000/pytorch_model.bin'.format(sagemaker_default_bucket)\n",
    "\n",
    "# 模型环境变量设置\n",
    "model_environment  = {\n",
    "    'SAGEMAKER_MODEL_SERVER_TIMEOUT': '600',\n",
    "    'SAGEMAKER_MODEL_SERVER_WORKERS': '1',\n",
    "    'MODEL_NAME_OR_PATH'            : base_model_name_or_path,\n",
    "    'FINETUNE_MODEL_NAME_OR_PATH'   : finetune_model_name_or_path,\n",
    "}\n"
   ]
  },
  {
   "cell_type": "code",
   "execution_count": null,
   "id": "076681b6-3064-4dd5-b9ca-83cedab9da2e",
   "metadata": {
    "tags": []
   },
   "outputs": [],
   "source": [
    "from sagemaker.pytorch.model import PyTorchModel\n",
    "\n",
    "model = PyTorchModel(\n",
    "    name              = model_name,\n",
    "    model_data        = model_data,\n",
    "    entry_point       = entry_point,\n",
    "    source_dir        = './code',\n",
    "    role              = role,\n",
    "    framework_version = framework_version, \n",
    "    py_version        = py_version,\n",
    "    env               = model_environment\n",
    ")"
   ]
  },
  {
   "cell_type": "code",
   "execution_count": null,
   "id": "13077f97-3549-46bf-b175-aee0aa050c6a",
   "metadata": {
    "tags": []
   },
   "outputs": [],
   "source": [
    "! chmod +x /usr/local/bin/s5cmd\n",
    "! cp /usr/local/bin/s5cmd code/"
   ]
  },
  {
   "cell_type": "markdown",
   "id": "ae07f38b-b216-49be-ae5b-b666315cfbcf",
   "metadata": {
    "jp-MarkdownHeadingCollapsed": true,
    "tags": []
   },
   "source": [
    "## BYOC 方式打包训练"
   ]
  },
  {
   "cell_type": "code",
   "execution_count": 12,
   "id": "7d7fcf1f-1962-4d69-8c98-9273201e55a8",
   "metadata": {},
   "outputs": [
    {
     "name": "stdout",
     "output_type": "stream",
     "text": [
      "Overwriting Dockerfile\n"
     ]
    }
   ],
   "source": [
    "%%writefile Dockerfile\n",
    "## You should change below region code to the region you used, here sample is use us-west-2\n",
    "#From 763104351884.dkr.ecr.us-west-2.amazonaws.com/huggingface-pytorch-training:1.13.1-transformers4.26.0-gpu-py39-cu117-ubuntu20.04 \n",
    "From 763104351884.dkr.ecr.us-west-2.amazonaws.com/pytorch-training:2.0.0-gpu-py310-cu118-ubuntu20.04-sagemaker\n",
    "#From pytorch/pytorch:1.5-cuda10.1-cudnn7-runtime\n",
    "\n",
    "ENV LANG=C.UTF-8\n",
    "ENV PYTHONUNBUFFERED=TRUE\n",
    "ENV PYTHONDONTWRITEBYTECODE=TRUE\n",
    "\n",
    "RUN pip3 uninstall -y deepspeed && pip3 install deepspeed\n",
    "\n",
    "## Make all local GPUs visible\n",
    "ENV NVIDIA_VISIBLE_DEVICES=\"all\""
   ]
  },
  {
   "cell_type": "code",
   "execution_count": 13,
   "id": "3b8ee553",
   "metadata": {
    "tags": []
   },
   "outputs": [
    {
     "name": "stdout",
     "output_type": "stream",
     "text": [
      "WARNING! Your password will be stored unencrypted in /home/ec2-user/.docker/config.json.\n",
      "Configure a credential helper to remove this warning. See\n",
      "https://docs.docker.com/engine/reference/commandline/login/#credentials-store\n",
      "\n",
      "Login Succeeded\n"
     ]
    }
   ],
   "source": [
    "## You should change below region code to the region you used, here sample is use us-west-2\n",
    "!aws ecr get-login-password --region us-west-2 | docker login --username AWS --password-stdin 763104351884.dkr.ecr.us-west-2.amazonaws.com"
   ]
  },
  {
   "cell_type": "code",
   "execution_count": 14,
   "id": "3ccc2ba2-6cb2-4922-b71b-4930141fea6c",
   "metadata": {
    "tags": []
   },
   "outputs": [],
   "source": [
    "## define repo name, should contain *sagemaker* in the name\n",
    "repo_name = \"sagemaker-chatglm2-demo\""
   ]
  },
  {
   "cell_type": "code",
   "execution_count": 15,
   "id": "2af1be4f-a857-480f-8fd1-d7a708957742",
   "metadata": {
    "scrolled": true,
    "tags": []
   },
   "outputs": [
    {
     "name": "stdout",
     "output_type": "stream",
     "text": [
      "Login Succeeded\n",
      "Sending build context to Docker daemon  12.65GB\n",
      "Step 1/6 : From 763104351884.dkr.ecr.us-west-2.amazonaws.com/pytorch-training:2.0.0-gpu-py310-cu118-ubuntu20.04-sagemaker\n",
      "2.0.0-gpu-py310-cu118-ubuntu20.04-sagemaker: Pulling from pytorch-training\n",
      "f0412dfb1aae: Already exists\n",
      "20d547ab5eb5: Pulling fs layer\n",
      "ece84004a3cd: Pulling fs layer\n",
      "b08eef4b90c8: Pulling fs layer\n",
      "aa315b7808f0: Pulling fs layer\n",
      "0e13f6680943: Pulling fs layer\n",
      "1223400d5b6c: Pulling fs layer\n",
      "3b6d704e174b: Pulling fs layer\n",
      "633da056ddf3: Pulling fs layer\n",
      "d5a51ffbb6d7: Pulling fs layer\n",
      "50e7ce7a0d72: Pulling fs layer\n",
      "1cfa55732965: Pulling fs layer\n",
      "49ea01127a19: Pulling fs layer\n",
      "b8ca3f0eb84b: Pulling fs layer\n",
      "8ed5d348ec00: Pulling fs layer\n",
      "636ba3692e45: Pulling fs layer\n",
      "16553094319a: Pulling fs layer\n",
      "dc55b2a67a46: Pulling fs layer\n",
      "a945593b0575: Pulling fs layer\n",
      "76f69f5963c7: Pulling fs layer\n",
      "bd49b60ca158: Pulling fs layer\n",
      "fb645bddce4f: Pulling fs layer\n",
      "16f4d6678aa5: Pulling fs layer\n",
      "b3e1b24d2216: Pulling fs layer\n",
      "e776255b7120: Pulling fs layer\n",
      "77339228bb75: Pulling fs layer\n",
      "1223400d5b6c: Waiting\n",
      "823e3d77562e: Pulling fs layer\n",
      "0c4c26e6be76: Pulling fs layer\n",
      "636ba3692e45: Waiting\n",
      "16553094319a: Waiting\n",
      "b3e1b24d2216: Waiting\n",
      "e776255b7120: Waiting\n",
      "77339228bb75: Waiting\n",
      "d5a51ffbb6d7: Waiting\n",
      "dc55b2a67a46: Waiting\n",
      "50e7ce7a0d72: Waiting\n",
      "bd49b60ca158: Waiting\n",
      "76f69f5963c7: Waiting\n",
      "a945593b0575: Waiting\n",
      "8ed5d348ec00: Waiting\n",
      "b8ca3f0eb84b: Waiting\n",
      "0c4c26e6be76: Waiting\n",
      "457c90b377a6: Pulling fs layer\n",
      "d3de5a08b650: Pulling fs layer\n",
      "c4489c2ea497: Pulling fs layer\n",
      "9d8d4de2605c: Pulling fs layer\n",
      "457c90b377a6: Waiting\n",
      "d3de5a08b650: Waiting\n",
      "c4489c2ea497: Waiting\n",
      "2f30b7ed44bc: Pulling fs layer\n",
      "9d8d4de2605c: Waiting\n",
      "a652b526add8: Pulling fs layer\n",
      "554f119044a5: Pulling fs layer\n",
      "8a9639f52c3d: Pulling fs layer\n",
      "e00281621546: Pulling fs layer\n",
      "5c935b76f6ca: Pulling fs layer\n",
      "57cafde1147b: Pulling fs layer\n",
      "bc081fd6995e: Pulling fs layer\n",
      "ba17f0367ddf: Pulling fs layer\n",
      "5c935b76f6ca: Waiting\n",
      "d69464a5d95d: Pulling fs layer\n",
      "2f30b7ed44bc: Waiting\n",
      "8a9639f52c3d: Waiting\n",
      "e00281621546: Waiting\n",
      "57cafde1147b: Waiting\n",
      "43a702328e04: Pulling fs layer\n",
      "a652b526add8: Waiting\n",
      "ba17f0367ddf: Waiting\n",
      "567d362b8bfd: Pulling fs layer\n",
      "bc081fd6995e: Waiting\n",
      "43a702328e04: Waiting\n",
      "65f648cc066a: Pulling fs layer\n",
      "cb1d502ef639: Pulling fs layer\n",
      "65f648cc066a: Waiting\n",
      "cb1d502ef639: Waiting\n",
      "d69464a5d95d: Waiting\n",
      "b08eef4b90c8: Verifying Checksum\n",
      "b08eef4b90c8: Download complete\n",
      "aa315b7808f0: Download complete\n",
      "20d547ab5eb5: Verifying Checksum\n",
      "20d547ab5eb5: Download complete\n",
      "0e13f6680943: Verifying Checksum\n",
      "0e13f6680943: Download complete\n",
      "20d547ab5eb5: Pull complete\n",
      "ece84004a3cd: Verifying Checksum\n",
      "ece84004a3cd: Download complete\n",
      "ece84004a3cd: Pull complete\n",
      "b08eef4b90c8: Pull complete\n",
      "aa315b7808f0: Pull complete\n",
      "0e13f6680943: Pull complete\n",
      "3b6d704e174b: Verifying Checksum\n",
      "3b6d704e174b: Download complete\n",
      "1223400d5b6c: Verifying Checksum\n",
      "1223400d5b6c: Download complete\n",
      "50e7ce7a0d72: Verifying Checksum\n",
      "50e7ce7a0d72: Download complete\n",
      "1cfa55732965: Verifying Checksum\n",
      "1cfa55732965: Download complete\n",
      "49ea01127a19: Verifying Checksum\n",
      "49ea01127a19: Download complete\n",
      "b8ca3f0eb84b: Verifying Checksum\n",
      "b8ca3f0eb84b: Download complete\n",
      "8ed5d348ec00: Verifying Checksum\n",
      "8ed5d348ec00: Download complete\n",
      "636ba3692e45: Verifying Checksum\n",
      "636ba3692e45: Download complete\n",
      "16553094319a: Verifying Checksum\n",
      "16553094319a: Download complete\n",
      "dc55b2a67a46: Download complete\n",
      "a945593b0575: Download complete\n",
      "76f69f5963c7: Download complete\n",
      "1223400d5b6c: Pull complete\n",
      "3b6d704e174b: Pull complete\n",
      "d5a51ffbb6d7: Verifying Checksum\n",
      "d5a51ffbb6d7: Download complete\n",
      "fb645bddce4f: Verifying Checksum\n",
      "fb645bddce4f: Download complete\n",
      "16f4d6678aa5: Verifying Checksum\n",
      "16f4d6678aa5: Download complete\n",
      "b3e1b24d2216: Download complete\n",
      "e776255b7120: Verifying Checksum\n",
      "e776255b7120: Download complete\n",
      "77339228bb75: Verifying Checksum\n",
      "77339228bb75: Download complete\n",
      "823e3d77562e: Verifying Checksum\n",
      "823e3d77562e: Download complete\n",
      "0c4c26e6be76: Download complete\n",
      "457c90b377a6: Verifying Checksum\n",
      "457c90b377a6: Download complete\n",
      "d3de5a08b650: Verifying Checksum\n",
      "d3de5a08b650: Download complete\n",
      "c4489c2ea497: Verifying Checksum\n",
      "c4489c2ea497: Download complete\n",
      "9d8d4de2605c: Verifying Checksum\n",
      "9d8d4de2605c: Download complete\n",
      "2f30b7ed44bc: Verifying Checksum\n",
      "2f30b7ed44bc: Download complete\n",
      "a652b526add8: Verifying Checksum\n",
      "a652b526add8: Download complete\n",
      "554f119044a5: Verifying Checksum\n",
      "554f119044a5: Download complete\n",
      "8a9639f52c3d: Verifying Checksum\n",
      "8a9639f52c3d: Download complete\n",
      "e00281621546: Verifying Checksum\n",
      "e00281621546: Download complete\n",
      "5c935b76f6ca: Download complete\n",
      "57cafde1147b: Verifying Checksum\n",
      "57cafde1147b: Download complete\n",
      "bc081fd6995e: Verifying Checksum\n",
      "bc081fd6995e: Download complete\n",
      "ba17f0367ddf: Verifying Checksum\n",
      "ba17f0367ddf: Download complete\n",
      "d69464a5d95d: Verifying Checksum\n",
      "d69464a5d95d: Download complete\n",
      "43a702328e04: Verifying Checksum\n",
      "43a702328e04: Download complete\n",
      "567d362b8bfd: Verifying Checksum\n",
      "567d362b8bfd: Download complete\n",
      "65f648cc066a: Verifying Checksum\n",
      "65f648cc066a: Download complete\n",
      "cb1d502ef639: Verifying Checksum\n",
      "cb1d502ef639: Download complete\n",
      "633da056ddf3: Download complete\n",
      "bd49b60ca158: Verifying Checksum\n",
      "bd49b60ca158: Download complete\n",
      "The push refers to repository [687912291502.dkr.ecr.us-west-2.amazonaws.com/sagemaker-chatglm2-demo]\n",
      "f8dae5c3df1e: Preparing\n",
      "e3221f18601a: Preparing\n",
      "b6f286626882: Preparing\n",
      "76fe97d80cdb: Preparing\n",
      "f5f76489fff8: Preparing\n",
      "621c3f07daa7: Preparing\n",
      "9b484bb42e11: Preparing\n",
      "54c7c0b58471: Preparing\n",
      "c34adc3ab668: Preparing\n",
      "bbf651e48b84: Preparing\n",
      "f61045791108: Preparing\n",
      "4e2ac0cda74a: Preparing\n",
      "658a33d555eb: Preparing\n",
      "bd16d9a61a98: Preparing\n",
      "f0c0cd2accfa: Preparing\n",
      "1275469c066c: Preparing\n",
      "b802dd3babf4: Preparing\n",
      "a3834ec63558: Preparing\n",
      "63edcef6dedf: Preparing\n",
      "0154e84cc2dd: Preparing\n",
      "7085d1c151f6: Preparing\n",
      "a77a2104cfb6: Preparing\n",
      "6808e7f9da2f: Preparing\n",
      "3bc059a9dec6: Preparing\n",
      "de783f3fec23: Preparing\n",
      "18ca52d74b2f: Preparing\n",
      "73df6ccd636c: Preparing\n",
      "bd16d9a61a98: Waiting\n",
      "6738b73ff7a8: Preparing\n",
      "c34adc3ab668: Waiting\n",
      "2a8292d9bfcc: Preparing\n",
      "5b75a5ef32a7: Preparing\n",
      "f0c0cd2accfa: Waiting\n",
      "bbf651e48b84: Waiting\n",
      "25a5f55a11f0: Preparing\n",
      "707f484816ae: Preparing\n",
      "0430aa1e47d4: Preparing\n",
      "658a33d555eb: Waiting\n",
      "1275469c066c: Waiting\n",
      "65448e793131: Preparing\n",
      "15af6e2d42ba: Preparing\n",
      "b46caef92993: Preparing\n",
      "53ce33a12646: Preparing\n",
      "aad68760f4ce: Preparing\n",
      "b802dd3babf4: Waiting\n",
      "f61045791108: Waiting\n",
      "323d67ab1719: Preparing\n",
      "a3834ec63558: Waiting\n",
      "e72743a0fdfe: Preparing\n",
      "3996353f5820: Preparing\n",
      "63edcef6dedf: Waiting\n",
      "ea87e0b9c30f: Preparing\n",
      "af18356cdf10: Preparing\n",
      "4e2ac0cda74a: Waiting\n",
      "f6e30dd4497e: Preparing\n",
      "73df6ccd636c: Waiting\n",
      "99832d04a153: Preparing\n",
      "0154e84cc2dd: Waiting\n",
      "de783f3fec23: Waiting\n",
      "a5981ed7a378: Preparing\n",
      "6738b73ff7a8: Waiting\n",
      "18ca52d74b2f: Waiting\n",
      "250519a2f830: Preparing\n",
      "6808e7f9da2f: Waiting\n",
      "6cadbde53f94: Preparing\n",
      "7085d1c151f6: Waiting\n",
      "0002c93bdb37: Preparing\n",
      "2a8292d9bfcc: Waiting\n",
      "3bc059a9dec6: Waiting\n",
      "a77a2104cfb6: Waiting\n",
      "aad68760f4ce: Waiting\n",
      "5b75a5ef32a7: Waiting\n",
      "f6e30dd4497e: Waiting\n",
      "b46caef92993: Waiting\n",
      "323d67ab1719: Waiting\n",
      "25a5f55a11f0: Waiting\n",
      "99832d04a153: Waiting\n",
      "e72743a0fdfe: Waiting\n",
      "53ce33a12646: Waiting\n",
      "a5981ed7a378: Waiting\n",
      "65448e793131: Waiting\n",
      "3996353f5820: Waiting\n",
      "6cadbde53f94: Waiting\n",
      "0002c93bdb37: Waiting\n",
      "0430aa1e47d4: Waiting\n",
      "af18356cdf10: Waiting\n",
      "621c3f07daa7: Waiting\n",
      "ea87e0b9c30f: Waiting\n",
      "15af6e2d42ba: Waiting\n",
      "b6f286626882: Layer already exists\n",
      "f8dae5c3df1e: Layer already exists\n",
      "f5f76489fff8: Layer already exists\n",
      "76fe97d80cdb: Layer already exists\n",
      "e3221f18601a: Layer already exists\n",
      "621c3f07daa7: Layer already exists\n",
      "54c7c0b58471: Layer already exists\n",
      "9b484bb42e11: Layer already exists\n",
      "bbf651e48b84: Layer already exists\n",
      "c34adc3ab668: Layer already exists\n",
      "f61045791108: Layer already exists\n",
      "658a33d555eb: Layer already exists\n",
      "f0c0cd2accfa: Layer already exists\n",
      "bd16d9a61a98: Layer already exists\n",
      "4e2ac0cda74a: Layer already exists\n",
      "1275469c066c: Layer already exists\n",
      "b802dd3babf4: Layer already exists\n",
      "a3834ec63558: Layer already exists\n",
      "63edcef6dedf: Layer already exists\n",
      "0154e84cc2dd: Layer already exists\n",
      "7085d1c151f6: Layer already exists\n",
      "3bc059a9dec6: Layer already exists\n",
      "6808e7f9da2f: Layer already exists\n",
      "a77a2104cfb6: Layer already exists\n",
      "de783f3fec23: Layer already exists\n",
      "73df6ccd636c: Layer already exists\n",
      "6738b73ff7a8: Layer already exists\n",
      "18ca52d74b2f: Layer already exists\n",
      "2a8292d9bfcc: Layer already exists\n",
      "5b75a5ef32a7: Layer already exists\n",
      "25a5f55a11f0: Layer already exists\n",
      "0430aa1e47d4: Layer already exists\n",
      "707f484816ae: Layer already exists\n",
      "65448e793131: Layer already exists\n",
      "15af6e2d42ba: Layer already exists\n",
      "b46caef92993: Layer already exists\n",
      "aad68760f4ce: Layer already exists\n",
      "53ce33a12646: Layer already exists\n",
      "e72743a0fdfe: Layer already exists\n",
      "323d67ab1719: Layer already exists\n",
      "ea87e0b9c30f: Layer already exists\n",
      "af18356cdf10: Layer already exists\n",
      "f6e30dd4497e: Layer already exists\n",
      "3996353f5820: Layer already exists\n",
      "99832d04a153: Layer already exists\n",
      "a5981ed7a378: Layer already exists\n",
      "250519a2f830: Layer already exists\n",
      "0002c93bdb37: Layer already exists\n",
      "6cadbde53f94: Layer already exists\n",
      "latest: digest: sha256:ba67f2d6b6ee7fac7939b42bbca91915c0136eadee93cbc2df6ac5f1d8c98a30 size: 10621\n"
     ]
    },
    {
     "name": "stderr",
     "output_type": "stream",
     "text": [
      "WARNING! Your password will be stored unencrypted in /home/ec2-user/.docker/config.json.\n",
      "Configure a credential helper to remove this warning. See\n",
      "https://docs.docker.com/engine/reference/commandline/login/#credentials-store\n",
      "\n",
      "failed to register layer: Error processing tar file(exit status 1): write /opt/conda/lib/libcusparse.so.11.7.5.86: no space left on device\n"
     ]
    }
   ],
   "source": [
    "%%script env repo_name=$repo_name bash\n",
    "\n",
    "#!/usr/bin/env bash\n",
    "\n",
    "# This script shows how to build the Docker image and push it to ECR to be ready for use\n",
    "# by SageMaker.\n",
    "\n",
    "# The argument to this script is the image name. This will be used as the image on the local\n",
    "# machine and combined with the account and region to form the repository name for ECR.\n",
    "# The name of our algorithm\n",
    "algorithm_name=${repo_name}\n",
    "\n",
    "account=$(aws sts get-caller-identity --query Account --output text)\n",
    "\n",
    "# Get the region defined in the current configuration (default to us-west-2 if none defined)\n",
    "region=$(aws configure get region)\n",
    "region=${region:-us-west-2}\n",
    "\n",
    "fullname=\"${account}.dkr.ecr.${region}.amazonaws.com/${algorithm_name}:latest\"\n",
    "\n",
    "# If the repository doesn't exist in ECR, create it.\n",
    "aws ecr describe-repositories --repository-names \"${algorithm_name}\" > /dev/null 2>&1\n",
    "\n",
    "if [ $? -ne 0 ]\n",
    "then\n",
    "    aws ecr create-repository --repository-name \"${algorithm_name}\" > /dev/null\n",
    "fi\n",
    "\n",
    "# Get the login command from ECR and execute it directly\n",
    "aws ecr get-login-password --region ${region}|docker login --username AWS --password-stdin ${fullname}\n",
    "\n",
    "# Build the docker image locally with the image name and then push it to ECR\n",
    "# with the full name.\n",
    "\n",
    "docker build -t ${algorithm_name} .\n",
    "docker tag ${algorithm_name} ${fullname}\n",
    "\n",
    "docker push ${fullname}"
   ]
  },
  {
   "cell_type": "code",
   "execution_count": 16,
   "id": "9d3a109b-a905-4e6e-b0d8-c6aa720a2206",
   "metadata": {
    "tags": []
   },
   "outputs": [
    {
     "name": "stdout",
     "output_type": "stream",
     "text": [
      "Overwriting ./ChatGLM2-6B/ptuning/sm_fulltuning_train.sh\n"
     ]
    }
   ],
   "source": [
    "%%writefile ./ChatGLM2-6B/ptuning/sm_fulltuning_train.sh\n",
    "#!/bin/bash\n",
    "echo \"Y\"|pip uninstall deepspeed\n",
    "export DS_BUILD_UTILS=1 && export DS_BUILD_FUSED_ADAM=1 && pip install deepspeed\n",
    "pip install ./requirements.txt\n",
    "LR=1e-4\n",
    "MASTER_PORT=\"23456\"\n",
    "\n",
    "deepspeed --num_gpus=$NUM_GPUS  --master_port $MASTER_PORT main_tuning.py \\\n",
    "    --deepspeed deepspeed.json \\\n",
    "    --do_train \\\n",
    "    --train_file $TRAIN_DATASET \\\n",
    "    --validation_file $TEST_DATASET \\\n",
    "    --prompt_column ${PROMPT_COLUMN} \\\n",
    "    --response_column ${RESPONSE_COLUMN} \\\n",
    "    --overwrite_cache \\\n",
    "    --model_name_or_path ${MODEL_NAME_OR_PATH}   \\\n",
    "    --output_dir ${OUTPUT_DIR} \\\n",
    "    --model_output_s3_path ${MODEL_OUTPUT_S3_PATH} \\\n",
    "    --overwrite_output_dir \\\n",
    "    --max_source_length 64 \\\n",
    "    --max_target_length 64 \\\n",
    "    --per_device_train_batch_size 1 \\\n",
    "    --per_device_eval_batch_size 4 \\\n",
    "    --gradient_accumulation_steps 1 \\\n",
    "    --predict_with_generate \\\n",
    "    --max_steps ${TRAIN_STEPS} \\\n",
    "    --logging_steps 10 \\\n",
    "    --save_steps ${TRAIN_STEPS} \\\n",
    "    --learning_rate $LR \\\n",
    "    --fp16\n",
    "\n",
    "#./s5cmd sync /tmp/output/ s3://$MODEL_S3_BUCKET/models/chatglm-lora/output/$(date +%Y-%m-%d-%H-%M-%S)/"
   ]
  },
  {
   "cell_type": "code",
   "execution_count": 17,
   "id": "2d52dee8-ef93-45a9-a906-91a91ba3b7a4",
   "metadata": {
    "tags": []
   },
   "outputs": [
    {
     "name": "stdout",
     "output_type": "stream",
     "text": [
      "Overwriting ChatGLM2-6B/ptuning/requirements.txt\n"
     ]
    }
   ],
   "source": [
    "%%writefile ChatGLM2-6B/ptuning/requirements.txt\n",
    "protobuf\n",
    "#git+https://github.com/huggingface/transformers.git@68d640f7c368bcaaaecfc678f11908ebbd3d6176\n",
    "transformers==4.30.1\n",
    "cpm_kernels\n",
    "#torch>=2.0\n",
    "gradio\n",
    "mdtex2html\n",
    "sentencepiece\n",
    "accelerate>=0.20.1\n",
    "sse-starlette\n",
    "streamlit>=1.24.0\n",
    "datasets\n",
    "huggingface\n",
    "jieba\n",
    "rouge_chinese\n",
    "nltk"
   ]
  },
  {
   "cell_type": "code",
   "execution_count": 18,
   "id": "22461ff1-58bc-400a-a6a0-fe16b0848fb8",
   "metadata": {
    "tags": []
   },
   "outputs": [],
   "source": [
    "# Define Training Job Name\n",
    "import time\n",
    "from sagemaker.huggingface import HuggingFace\n",
    "from sagemaker.estimator import Estimator\n",
    "\n",
    "job_name = f'huggingface-chatglm-finetune-fulltuning-{time.strftime(\"%Y-%m-%d-%H-%M-%S\", time.localtime())}'\n",
    "\n",
    "instance_type  = \"ml.p4d.24xlarge\"\n",
    "instance_count = 1\n",
    "processes_per_host = 8\n",
    "\n",
    "# 基础模型存放地址\n",
    "model_name_or_path = 's3://{}/llm/models/chatglm2/original-6B/'.format(sagemaker_default_bucket)\n",
    "\n",
    "# 微调模型输出地址\n",
    "output_dir         = '/opt/ml/model/adgen-chatglm2-6b-ft'\n",
    "model_s3_path      = 's3://{}/llm/models/chatglm2/finetune-fulltuning-adgen/'.format(sagemaker_default_bucket)\n",
    "\n",
    "# 模型环境变量设置\n",
    "environment = {\n",
    "    'PYTORCH_CUDA_ALLOC_CONF': 'max_split_size_mb:32',\n",
    "    'NUM_GPUS'               : str(processes_per_host),\n",
    "    'TRAIN_DATASET'          : '/opt/ml/input/data/KuaFuTrainData/train.json',\n",
    "    'TEST_DATASET'           : '/opt/ml/input/data/KuaFuTrainData/dev.json',\n",
    "    'PROMPT_COLUMN'          : 'content',\n",
    "    'RESPONSE_COLUMN'        : 'summary',\n",
    "    'MODEL_NAME_OR_PATH'     : model_name_or_path,\n",
    "    'OUTPUT_DIR'             : output_dir,\n",
    "    'MODEL_OUTPUT_S3_PATH'   : model_s3_path,\n",
    "    'TRAIN_STEPS'            : '50'\n",
    "}\n",
    "\n",
    "inputs = {\n",
    "   'KuaFuTrainData': f\"s3://{sagemaker_default_bucket}/llm/datasets/chatglm2/KuaFuTrainData/\"\n",
    "}"
   ]
  },
  {
   "cell_type": "code",
   "execution_count": 19,
   "id": "537494d7-b91c-459b-9c87-3b5494a756e2",
   "metadata": {
    "tags": []
   },
   "outputs": [
    {
     "data": {
      "text/plain": [
       "'687912291502.dkr.ecr.us-west-2.amazonaws.com/sagemaker-chatglm2-demo:latest'"
      ]
     },
     "execution_count": 19,
     "metadata": {},
     "output_type": "execute_result"
    }
   ],
   "source": [
    "## The image uri which is build and pushed above\n",
    "image_uri = \"{}.dkr.ecr.{}.amazonaws.com/{}:latest\".format(account, region, repo_name)\n",
    "image_uri"
   ]
  },
  {
   "cell_type": "code",
   "execution_count": 20,
   "id": "f75ef7f6-6692-4a0e-a8d7-22c894ef4441",
   "metadata": {
    "tags": []
   },
   "outputs": [
    {
     "name": "stderr",
     "output_type": "stream",
     "text": [
      "INFO:botocore.credentials:Found credentials from IAM Role: BaseNotebookInstanceEc2InstanceRole\n"
     ]
    }
   ],
   "source": [
    "# create the Estimator\n",
    "huggingface_estimator = Estimator(\n",
    "    entry_point          = 'sm_fulltuning_train.sh',\n",
    "    source_dir           = './ChatGLM2-6B/ptuning',\n",
    "    image_uri            = image_uri,\n",
    "    instance_type        = instance_type,\n",
    "    instance_count       = instance_count,\n",
    "    base_job_name        = job_name,\n",
    "    role                 = role,\n",
    "    environment          = environment\n",
    ")"
   ]
  },
  {
   "cell_type": "code",
   "execution_count": null,
   "id": "ef6b2d64-7882-474c-b43c-d9778f237d31",
   "metadata": {
    "tags": []
   },
   "outputs": [
    {
     "name": "stderr",
     "output_type": "stream",
     "text": [
      "INFO:sagemaker:Creating training-job with name: huggingface-chatglm-finetune-fulltuning-2023-07-28-08-30-36-404\n"
     ]
    },
    {
     "name": "stdout",
     "output_type": "stream",
     "text": [
      "Using provided s3_resource\n",
      "2023-07-28 08:30:38 Starting - Starting the training job......\n",
      "2023-07-28 08:31:25 Starting - Preparing the instances for training....................."
     ]
    }
   ],
   "source": [
    "huggingface_estimator.fit(inputs=inputs)"
   ]
  },
  {
   "cell_type": "markdown",
   "id": "2ebf89bb-5d55-4871-b339-506742d4c4a1",
   "metadata": {
    "jp-MarkdownHeadingCollapsed": true,
    "tags": []
   },
   "source": [
    "## 4.4 部署微调模型"
   ]
  },
  {
   "cell_type": "code",
   "execution_count": null,
   "id": "24024c97-0dbb-46e2-8e74-008248be574c",
   "metadata": {},
   "outputs": [],
   "source": []
  },
  {
   "cell_type": "code",
   "execution_count": null,
   "id": "92557cf7-950a-46ca-b58c-2e239bb02207",
   "metadata": {
    "tags": []
   },
   "outputs": [],
   "source": [
    "from sagemaker.serializers import JSONSerializer\n",
    "from sagemaker.deserializers import JSONDeserializer\n",
    "\n",
    "endpoint_name         = None\n",
    "instance_type         = 'ml.g4dn.2xlarge'\n",
    "instance_count        = 1\n",
    "\n",
    "predictor = model.deploy(\n",
    "    endpoint_name          = endpoint_name,\n",
    "    instance_type          = instance_type, \n",
    "    initial_instance_count = instance_count,\n",
    "    serializer             = JSONSerializer(),\n",
    "    deserializer           = JSONDeserializer()\n",
    ")"
   ]
  },
  {
   "cell_type": "markdown",
   "id": "f7e3c7af-c214-4db1-b2f7-0973f1f5eaa8",
   "metadata": {
    "jp-MarkdownHeadingCollapsed": true,
    "tags": []
   },
   "source": [
    "## 4.5 测试微调模型"
   ]
  },
  {
   "cell_type": "code",
   "execution_count": null,
   "id": "4edb8c37-13c3-4277-986e-aff82c85e39f",
   "metadata": {
    "tags": []
   },
   "outputs": [],
   "source": [
    "# Wait model loading\n",
    "\n",
    "import time\n",
    "\n",
    "time.sleep(3)"
   ]
  },
  {
   "cell_type": "code",
   "execution_count": null,
   "id": "b202bd61-2565-4ff8-b79a-811742391218",
   "metadata": {
    "tags": []
   },
   "outputs": [],
   "source": [
    "inputs = {\n",
    "    \"ask\": \"需求:完成用户的高低肩分析报告|数据信息:性别女 身高174cm 年龄23;体型:标准;高低肩数值: 1.2 可能存在左高\"\n",
    "\n",
    "}\n",
    "\n",
    "response = predictor.predict(inputs)\n",
    "print(response[\"answer\"])\n"
   ]
  },
  {
   "cell_type": "code",
   "execution_count": null,
   "id": "92e25039-c0b4-4768-a057-5022da9139fd",
   "metadata": {
    "tags": []
   },
   "outputs": [],
   "source": [
    "inputs = {\n",
    "    \"ask\": \"告诉我，你是谁？您能干什么？\"\n",
    "\n",
    "}\n",
    "\n",
    "response = predictor.predict(inputs)\n",
    "print(response[\"answer\"])\n"
   ]
  },
  {
   "cell_type": "code",
   "execution_count": null,
   "id": "efad53ba-9eb3-47d9-8b86-80f44d5096b3",
   "metadata": {
    "tags": []
   },
   "outputs": [],
   "source": [
    "inputs = {\n",
    "    \"ask\": \"对于ChatGLM的数据微调工作，你有什么想说的吗？\"\n",
    "\n",
    "}\n",
    "\n",
    "response = predictor.predict(inputs)\n",
    "print(response[\"answer\"])\n"
   ]
  },
  {
   "cell_type": "code",
   "execution_count": null,
   "id": "a06d160e-5333-4843-a177-521bdbcf3971",
   "metadata": {
    "tags": []
   },
   "outputs": [],
   "source": [
    "inputs = {\n",
    "    \"ask\": \"需求:完成用户的体型分析报告|数据信息:性别男 身高175cm 年龄35;体型:标准;身体成分数据:体重 71.9kg [60.6-82], 肌肉质量 58.7kg [48.7-59.5], 体脂肪 10.3kg [8.1-16.2], 体脂率 14.3% [10-20], BMI 23.5 [18.5-24], 腰臀比 0.82 [0.8-0.9], 内脏脂肪等级 3 [0.9-10]\"\n",
    "}\n",
    "\n",
    "response = predictor.predict(inputs)\n",
    "print(response[\"answer\"])\n"
   ]
  },
  {
   "cell_type": "markdown",
   "id": "024da335",
   "metadata": {
    "jp-MarkdownHeadingCollapsed": true,
    "tags": []
   },
   "source": [
    "## 4.6 清除资源"
   ]
  },
  {
   "cell_type": "code",
   "execution_count": null,
   "id": "2a914fa4",
   "metadata": {
    "tags": []
   },
   "outputs": [],
   "source": [
    "predictor.delete_endpoint()"
   ]
  },
  {
   "cell_type": "code",
   "execution_count": null,
   "id": "4788e6b5-c46e-4821-943f-d179f9f3eb4a",
   "metadata": {},
   "outputs": [],
   "source": []
  }
 ],
 "metadata": {
  "kernelspec": {
   "display_name": "conda_pytorch_p39",
   "language": "python",
   "name": "conda_pytorch_p39"
  },
  "language_info": {
   "codemirror_mode": {
    "name": "ipython",
    "version": 3
   },
   "file_extension": ".py",
   "mimetype": "text/x-python",
   "name": "python",
   "nbconvert_exporter": "python",
   "pygments_lexer": "ipython3",
   "version": "3.9.15"
  }
 },
 "nbformat": 4,
 "nbformat_minor": 5
}
