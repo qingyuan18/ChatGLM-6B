{
 "cells": [
  {
   "cell_type": "markdown",
   "id": "252de0de",
   "metadata": {
    "tags": []
   },
   "source": [
    "### SageMaker fine tune ChatGLM\n",
    "\n",
    "#### 准备\n",
    "1. 升级boto3, sagemaker python sdk  \n",
    "2. 准备requirements.txt\n",
    "3. 准备s5cmd utility"
   ]
  },
  {
   "cell_type": "code",
   "execution_count": null,
   "id": "b8f2c403",
   "metadata": {
    "tags": []
   },
   "outputs": [],
   "source": [
    "!pip install --upgrade boto3\n",
    "!pip install --upgrade sagemaker"
   ]
  },
  {
   "cell_type": "code",
   "execution_count": null,
   "id": "9436071c-6e98-4b38-aff8-507193445382",
   "metadata": {
    "tags": []
   },
   "outputs": [],
   "source": [
    "#print('s3://{}/llm/models/'.format(sagemaker_session.default_bucket()))\n",
    "#!aws s3 ls s3://sagemaker-us-west-2-687912291502/llm/models/\n",
    "!curl -L https://github.com/peak/s5cmd/releases/download/v2.0.0/s5cmd_2.0.0_Linux-64bit.tar.gz | tar -xz && mv s5cmd ChatGLM-6B/ptuning/"
   ]
  },
  {
   "cell_type": "code",
   "execution_count": null,
   "id": "a4a30f3a",
   "metadata": {
    "tags": []
   },
   "outputs": [],
   "source": [
    "import boto3\n",
    "import sagemaker\n",
    "\n",
    "account_id = boto3.client('sts').get_caller_identity().get('Account')\n",
    "region_name = boto3.session.Session().region_name\n",
    "\n",
    "sagemaker_session = sagemaker.Session()\n",
    "bucket = sagemaker_session.default_bucket()\n",
    "role = sagemaker.get_execution_role()\n",
    "\n",
    "print(role)\n",
    "print(bucket)"
   ]
  },
  {
   "cell_type": "markdown",
   "id": "70cbcac2",
   "metadata": {
    "jp-MarkdownHeadingCollapsed": true,
    "tags": []
   },
   "source": [
    "### chatglm 官方P-tuning v2方式（单机单卡）\n",
    "1:安装依赖lib   \n",
    "2:准备数据集(本例以ADGEN 文本生成数据集为例，将解压后的 AdvertiseGen 目录放到本目录  \n",
    "3:修改并bash运行 train.sh  "
   ]
  },
  {
   "cell_type": "code",
   "execution_count": null,
   "id": "b07fa0a4-8e21-4441-a9b4-3a038f6c5cd7",
   "metadata": {
    "tags": []
   },
   "outputs": [],
   "source": [
    "#!pip install rouge_chinese nltk jieba datasets\n",
    "#!git clone https://github.com/THUDM/ChatGLM-6B.git\n",
    "#!pip install -r ChatGLM-6B/requirements.txt\n",
    "!cp ChatGLM-6B/requirements.txt ChatGLM-6B/ptuning/"
   ]
  },
  {
   "cell_type": "code",
   "execution_count": null,
   "id": "6ca76f3d-e961-4c4c-84cc-6ea297711a0b",
   "metadata": {
    "tags": []
   },
   "outputs": [],
   "source": [
    "#!cd ChatGLM-6B/ptuning/ && wget \"https://cloud.tsinghua.edu.cn/f/b3f119a008264b1cabd1/?dl=1\"\n",
    "#!cd ChatGLM-6B/ptuning/ && mv \"index.html?dl=1\" dataset.tar.gz\n",
    "#!cd ChatGLM-6B/ptuning/ && tar -xvf dataset.tar.gz\n",
    "!./ChatGLM-6B/ptuning/s5cmd sync ChatGLM-6B/ptuning/AdvertiseGen/ s3://{bucket}/llm/chatglm/datasets/ \n",
    "#!rm -rf cd ChatGLM-6B/ptuning/dataset.tar.gz\n"
   ]
  },
  {
   "cell_type": "code",
   "execution_count": null,
   "id": "a0d9e0f9-e025-4529-aadf-2f9d798b018b",
   "metadata": {
    "tags": []
   },
   "outputs": [],
   "source": [
    "# define Training Job Name \n",
    "import time\n",
    "from sagemaker.huggingface import HuggingFace\n",
    "instance_type=\"ml.g4dn.2xlarge\"\n",
    "\n",
    "job_name = f'huggingface-chatglm-simple-{time.strftime(\"%Y-%m-%d-%H-%M-%S\", time.localtime())}'\n",
    "#define the model s3 path which will store your trained model asset\n",
    "#Note: you should use your real s3 path to configure model_s3_path\n",
    "model_s3_path='s3://{}/llm/models/chatglm/simple/'.format(sagemaker_session.default_bucket())\n",
    "output_dir = '/opt/ml/model/adgen-chatglm-6b-ft'\n",
    "model_name_or_path = 'THUDM/chatglm-6b'\n",
    "\n",
    "\n",
    "instance_count = 1\n",
    "#define the enviroment variables for your scripts.\n",
    "environment = {\n",
    "              'MODEL_S3_PATH'          : model_s3_path,\n",
    "              'PYTORCH_CUDA_ALLOC_CONF': 'max_split_size_mb:32',\n",
    "              #'LD_LIBRARY_PATH'        : '${LD_LIBRARY_PATH}:/opt/conda/lib/',\n",
    "              'TRAIN_DATASET'          : '/opt/ml/input/data/AdvertiseGen/train.json',\n",
    "              'TEST_DATASET'           : '/opt/ml/input/data/AdvertiseGen/dev.json',\n",
    "              'PROMPT_COLUMN'          : 'content',\n",
    "              'RESPONSE_COLUMN'        : 'summary',\n",
    "              'MODEL_NAME_OR_PATH'     : model_name_or_path,\n",
    "              'OUTPUT_DIR'             : output_dir,\n",
    "              'MODEL_OUTPUT_S3_PATH'   : model_s3_path,\n",
    "              'TRAIN_STEPS'            : '100'\n",
    "}\n",
    "\n",
    "inputs={\n",
    "   'AdvertiseGen': f\"s3://{bucket}/llm/chatglm/datasets/\"\n",
    "}\n",
    "\n",
    "\n",
    "# create the Estimator\n",
    "from sagemaker.pytorch import PyTorch\n",
    "\n",
    "#huggingface_estimator = PyTorch(\n",
    "#                            entry_point          = 'start_simple.py',          # user endpoint script\n",
    "#                            source_dir           = 'ChatGLM-6B/ptuning',\n",
    "#                            role=role,\n",
    "#                            framework_version='1.13',\n",
    "#                            py_version='py39',\n",
    "#                            script_mode=True,\n",
    "#                            instance_count=1,  # 1 or 2 or ...\n",
    "#                            instance_type=instance_type,\n",
    "#                            environment = environment)\n",
    "\n",
    "huggingface_estimator = HuggingFace(\n",
    "    entry_point          = 'start_simple.py',          # user endpoint script\n",
    "    source_dir           = 'ChatGLM-6B/ptuning',               # directory which includes all the files needed for training\n",
    "    instance_type        = instance_type, # instances type used for the training job\n",
    "    instance_count       = instance_count,                 # the number of instances used for training\n",
    "    base_job_name        = job_name,          # the name of the training job\n",
    "    role                 = role,           # Iam role used in training job to access AWS ressources, e.g. S3\n",
    "    script_mode          = True,\n",
    "    transformers_version = '4.26',            # the transformers version used in the training job\n",
    "    pytorch_version      = '1.13',            # the pytorch_version version used in the training job\n",
    "    py_version           = 'py39',            # the python version used in the training job\n",
    "    environment = environment\n",
    ")\n",
    "\n",
    "huggingface_estimator.fit(inputs=inputs)"
   ]
  },
  {
   "cell_type": "code",
   "execution_count": null,
   "id": "5d799c69-96b4-4f7e-8f8a-df387f431106",
   "metadata": {
    "tags": []
   },
   "outputs": [],
   "source": [
    "huggingface_estimator.model_data"
   ]
  },
  {
   "cell_type": "code",
   "execution_count": null,
   "id": "c8e7992f-e414-40a0-9883-4d3dd1b6ea73",
   "metadata": {
    "tags": []
   },
   "outputs": [],
   "source": [
    "!aws s3 ls s3://sagemaker-us-west-2-687912291502/huggingface-chatglm-simple-2023-05-06-1-2023-05-06-14-24-12-728/output/model.tar.gz --recursive --human-readable --summarize"
   ]
  },
  {
   "cell_type": "markdown",
   "id": "dcc42f0d-c317-4243-9a4f-5c4e6e9c4b81",
   "metadata": {
    "tags": []
   },
   "source": [
    "For local test only"
   ]
  },
  {
   "cell_type": "code",
   "execution_count": null,
   "id": "8b8a09a3",
   "metadata": {
    "tags": []
   },
   "outputs": [],
   "source": [
    "!cd ChatGLM-6B/ptuning/&& bash train.sh"
   ]
  },
  {
   "cell_type": "markdown",
   "id": "e130efd9",
   "metadata": {
    "tags": []
   },
   "source": [
    "### chatglm 官方deepspeed方式（全参数的Finetune,单机多卡）\n",
    "1: 准备deepspeed lib，并修改deepspeed.json    \n",
    "2：数据集（以上一致）  \n",
    "3：entrypoint start-single-node.py,设置num-gpus  \n",
    "4：触发bash ds_train_finetune_single_node.sh "
   ]
  },
  {
   "cell_type": "code",
   "execution_count": null,
   "id": "56a48210-48ff-4840-a9a0-c8d0e7085adb",
   "metadata": {
    "tags": []
   },
   "outputs": [],
   "source": [
    "instance_type = 'ml.p4d.24xlarge'\n",
    "if instance_type in [\n",
    "    \"ml.p3.16xlarge\",\n",
    "    \"ml.p3dn.24xlarge\",\n",
    "    \"ml.g5.48xlarge\",\n",
    "    \"ml.p4d.24xlarge\"    \n",
    "]:\n",
    "    processes_per_host = 8\n",
    "elif instance_type == \"ml.p2.16xlarge\":\n",
    "    processes_per_host = 16\n",
    "else:\n",
    "    processes_per_host = 4\n",
    "\n",
    "print(\"processes_per_host is set to:\", processes_per_host)"
   ]
  },
  {
   "cell_type": "code",
   "execution_count": null,
   "id": "d3f648f6-7a86-4d18-a087-37401bdd2188",
   "metadata": {
    "tags": []
   },
   "outputs": [],
   "source": [
    "# define Training Job Name \n",
    "job_name = f'huggingface-chatglm-deepspeed-{time.strftime(\"%Y-%m-%d-%H-%M-%S\", time.localtime())}'\n",
    "#define the model s3 path which will store your trained model asset\n",
    "#Note: you should use your real s3 path to configure model_s3_path\n",
    "model_s3_path='s3://{}/llm/models/chatglm/deepspeed/'.format(sagemaker_session.default_bucket())\n",
    "output_dir = '/tmp/model/adgen-chatglm-6b-ft'\n",
    "model_name_or_path = 'THUDM/chatglm-6b'\n",
    "\n",
    "\n",
    "instance_count = 1\n",
    "#define the enviroment variables for your scripts.\n",
    "environment = {\n",
    "              'MODEL_S3_PATH'          : model_s3_path,\n",
    "              'PYTORCH_CUDA_ALLOC_CONF': 'max_split_size_mb:32',\n",
    "              #'LD_LIBRARY_PATH'        : '${LD_LIBRARY_PATH}:/opt/conda/lib/',\n",
    "              'NUM_GPUS'               : str(processes_per_host),\n",
    "              'TRAIN_DATASET'          : '/opt/ml/input/data/AdvertiseGen/train.json',\n",
    "              'TEST_DATASET'           : '/opt/ml/input/data/AdvertiseGen/dev.json',\n",
    "              'PROMPT_COLUMN'          : 'content',\n",
    "              'RESPONSE_COLUMN'        : 'summary',\n",
    "              'MODEL_NAME_OR_PATH'     : model_name_or_path,\n",
    "              'OUTPUT_DIR'             : output_dir,\n",
    "              'MODEL_OUTPUT_S3_PATH'   : model_s3_path,\n",
    "              'TRAIN_STEPS'            :'50'\n",
    "}\n",
    "\n",
    "inputs={\n",
    "   'AdvertiseGen': f\"s3://{bucket}/llm/chatglm/datasets/\"\n",
    "}\n",
    "\n",
    "\n",
    "# create the Estimator\n",
    "huggingface_estimator = HuggingFace(\n",
    "    entry_point          = 'start-single-node.py',          # user endpoint script\n",
    "    source_dir           = 'ChatGLM-6B/ptuning',               # directory which includes all the files needed for training\n",
    "    instance_type        = instance_type, # instances type used for the training job\n",
    "    instance_count       = instance_count,                 # the number of instances used for training\n",
    "    base_job_name        = job_name,          # the name of the training job\n",
    "    role                 = role,              # Iam role used in training job to access AWS ressources, e.g. S3\n",
    "    script_mode          = True,\n",
    "    transformers_version = '4.26',            # the transformers version used in the training job\n",
    "    pytorch_version      = '1.13',            # the pytorch_version version used in the training job\n",
    "    py_version           = 'py39',            # the python version used in the training job\n",
    "    environment = environment,\n",
    ")\n",
    "huggingface_estimator.fit(inputs=inputs)"
   ]
  },
  {
   "cell_type": "code",
   "execution_count": null,
   "id": "b4ed43d3-3727-421d-8a5f-d289dcdd2f22",
   "metadata": {
    "tags": []
   },
   "outputs": [],
   "source": [
    "huggingface_estimator.model_data"
   ]
  },
  {
   "cell_type": "markdown",
   "id": "fbf58dcd-d9f2-43b8-b9b7-f477985fb823",
   "metadata": {
    "tags": []
   },
   "source": [
    "### chatglm deepspeed 多机多卡改造\n",
    "1: 准备deepspeed lib，并修改deepspeed.json    \n",
    "2：数据集（以上一致）  \n",
    "3：entrypoint start.py,设置torch distribute launch configure  \n",
    "4：触发bash ds_train_finetune.sh "
   ]
  },
  {
   "cell_type": "code",
   "execution_count": null,
   "id": "4ea32b09-7afd-42f1-b144-721db4660e53",
   "metadata": {
    "tags": []
   },
   "outputs": [],
   "source": [
    "# define Training Job Name \n",
    "job_name = f'huggingface-chatglm-deepspeed-{time.strftime(\"%Y-%m-%d-%H-%M-%S\", time.localtime())}'\n",
    "#define the model s3 path which will store your trained model asset\n",
    "#Note: you should use your real s3 path to configure model_s3_path\n",
    "model_s3_path='s3://{}/llm/models/chatglm/deepspeed/'.format(sagemaker_session.default_bucket())\n",
    "output_dir = '/tmp/model/adgen-chatglm-6b-ft'\n",
    "model_name_or_path = 'THUDM/chatglm-6b'\n",
    "\n",
    "\n",
    "instance_count = 2\n",
    "#define the enviroment variables for your scripts.\n",
    "environment = {\n",
    "              'NODE_NUMBER'            : str(instance_count),\n",
    "              'MODEL_S3_PATH'          : model_s3_path,\n",
    "              'PYTORCH_CUDA_ALLOC_CONF': 'max_split_size_mb:32',\n",
    "              #'LD_LIBRARY_PATH'        : '${LD_LIBRARY_PATH}:/opt/conda/lib/',\n",
    "              'NUM_GPUS'               : str(processes_per_host),\n",
    "              'TRAIN_DATASET'          : '/opt/ml/input/data/AdvertiseGen/train.json',\n",
    "              'TEST_DATASET'           : '/opt/ml/input/data/AdvertiseGen/dev.json',\n",
    "              'PROMPT_COLUMN'          : 'content',\n",
    "              'RESPONSE_COLUMN'        : 'summary',\n",
    "              'MODEL_NAME_OR_PATH'     : model_name_or_path,\n",
    "              'OUTPUT_DIR'             : output_dir,\n",
    "              'MODEL_OUTPUT_S3_PATH'   : model_s3_path,\n",
    "              'TRAIN_STEPS'            :'50'\n",
    "}\n",
    "\n",
    "inputs={\n",
    "   'AdvertiseGen': f\"s3://{bucket}/llm/chatglm/datasets/\"\n",
    "}\n",
    "\n",
    "\n",
    "# create the Estimator\n",
    "huggingface_estimator = HuggingFace(\n",
    "    entry_point          = 'start.py',          # user endpoint script\n",
    "    source_dir           = 'ChatGLM-6B/ptuning',               # directory which includes all the files needed for training\n",
    "    instance_type        = instance_type, # instances type used for the training job\n",
    "    instance_count       = instance_count,                 # the number of instances used for training\n",
    "    base_job_name        = job_name,          # the name of the training job\n",
    "    role                 = role,              # Iam role used in training job to access AWS ressources, e.g. S3\n",
    "    script_mode          = True,\n",
    "    transformers_version = '4.26',            # the transformers version used in the training job\n",
    "    pytorch_version      = '1.13',            # the pytorch_version version used in the training job\n",
    "    py_version           = 'py39',            # the python version used in the training job\n",
    "    environment = environment,\n",
    ")\n",
    "huggingface_estimator.fit(inputs=inputs)"
   ]
  },
  {
   "cell_type": "code",
   "execution_count": null,
   "id": "37933c32-ad7c-4564-a8d1-dcfd79531338",
   "metadata": {},
   "outputs": [],
   "source": []
  }
 ],
 "metadata": {
  "kernelspec": {
   "display_name": "conda_pytorch_p39",
   "language": "python",
   "name": "conda_pytorch_p39"
  },
  "language_info": {
   "codemirror_mode": {
    "name": "ipython",
    "version": 3
   },
   "file_extension": ".py",
   "mimetype": "text/x-python",
   "name": "python",
   "nbconvert_exporter": "python",
   "pygments_lexer": "ipython3",
   "version": "3.9.15"
  }
 },
 "nbformat": 4,
 "nbformat_minor": 5
}
